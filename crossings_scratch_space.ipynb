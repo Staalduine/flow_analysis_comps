{
 "cells": [
  {
   "cell_type": "code",
   "execution_count": null,
   "id": "342b53db",
   "metadata": {},
   "outputs": [],
   "source": [
    "from pathlib import Path\n",
    "import matplotlib as mpl\n",
    "\n",
    "import matplotlib.pyplot as plt\n",
    "from flow_analysis_comps.Fourier.OrientationSpaceManager import orientationSpaceManager\n",
    "from flow_analysis_comps.util.video_io import read_video_metadata, load_tif_series_to_dask\n",
    "import colorcet  # noqa: F401\n",
    "from flow_analysis_comps.video_manipulation.control_class import videoControl\n",
    "from flow_analysis_comps.Classic.extract_velocity import kymoAnalyser, videoDeltas\n",
    "\n",
    "# mpl.rcParams.update(mpl.rcParamsDefault)\n",
    "\n",
    "# plt.rcParams[\"text.usetex\"] = True\n",
    "plt.close(\"all\")\n",
    "\n",
    "%matplotlib widget\n",
    "\n",
    "%load_ext autoreload\n",
    "%autoreload 2"
   ]
  },
  {
   "cell_type": "code",
   "execution_count": null,
   "id": "3d7f1d31",
   "metadata": {},
   "outputs": [],
   "source": [
    "video_root_folder = Path(\n",
    "    r'/Users/simonvanstaalduine/AMOLF-SHIMIZU Dropbox/Simon van Staalduine/033'\n",
    ")\n",
    "info_file_address = Path(video_root_folder / \"videoInfo.txt\")\n",
    "video_operator = videoControl(video_root_folder, info_file_address, resolution=1)\n",
    "mean_img = video_operator.mean_img\n",
    "kymographs = video_operator.get_kymographs()\n"
   ]
  },
  {
   "cell_type": "code",
   "execution_count": null,
   "id": "25cf170f",
   "metadata": {},
   "outputs": [],
   "source": [
    "video_deltas = videoDeltas(\n",
    "    delta_t=1,\n",
    "    delta_x=1\n",
    ")\n",
    "\n",
    "OSFilter = orientationSpaceManager(\n",
    "    0.15,\n",
    "    freq_width=0.2,\n",
    "    K=16,\n",
    "    x_spacing=video_deltas.delta_x,\n",
    "    y_spacing=video_deltas.delta_t,\n",
    ")\n",
    "new_order = 8\n",
    "speed_limit=10\n",
    "\n",
    "for key, kymo in kymographs.items():\n",
    "    invert_im = video_operator.video_info.mode == \"brightfield\"\n",
    "    OSFilter.get_response(kymo)\n",
    "    response_dict = OSFilter.get_all_angles()"
   ]
  },
  {
   "cell_type": "code",
   "execution_count": null,
   "id": "3ae620b8",
   "metadata": {},
   "outputs": [],
   "source": [
    "print(response_dict.keys())\n",
    "\n",
    "plt.figure()\n",
    "plt.imshow(response_dict[\"maxima_value\"].real[16], cmap=\"gray\")"
   ]
  }
 ],
 "metadata": {
  "kernelspec": {
   "display_name": ".venv",
   "language": "python",
   "name": "python3"
  },
  "language_info": {
   "codemirror_mode": {
    "name": "ipython",
    "version": 3
   },
   "file_extension": ".py",
   "mimetype": "text/x-python",
   "name": "python",
   "nbconvert_exporter": "python",
   "pygments_lexer": "ipython3",
   "version": "3.12.10"
  }
 },
 "nbformat": 4,
 "nbformat_minor": 5
}
