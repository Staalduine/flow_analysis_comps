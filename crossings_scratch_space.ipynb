{
 "cells": [
  {
   "cell_type": "code",
   "execution_count": 5,
   "id": "342b53db",
   "metadata": {},
   "outputs": [
    {
     "name": "stdout",
     "output_type": "stream",
     "text": [
      "The autoreload extension is already loaded. To reload it, use:\n",
      "  %reload_ext autoreload\n"
     ]
    }
   ],
   "source": [
    "from pathlib import Path\n",
    "import matplotlib as mpl\n",
    "\n",
    "import matplotlib.pyplot as plt\n",
    "from flow_analysis_comps.Fourier.OrientationSpaceManager import orientationSpaceManager\n",
    "from flow_analysis_comps.util.video_io import read_video_metadata, load_tif_series_to_dask\n",
    "import colorcet  # noqa: F401\n",
    "from flow_analysis_comps.video_manipulation.control_class import videoControl\n",
    "from flow_analysis_comps.Classic.extract_velocity import kymoAnalyser, videoDeltas\n",
    "\n",
    "# mpl.rcParams.update(mpl.rcParamsDefault)\n",
    "\n",
    "# plt.rcParams[\"text.usetex\"] = True\n",
    "plt.close(\"all\")\n",
    "\n",
    "%matplotlib widget\n",
    "\n",
    "%load_ext autoreload\n",
    "%autoreload 2"
   ]
  },
  {
   "cell_type": "code",
   "execution_count": 6,
   "id": "3d7f1d31",
   "metadata": {},
   "outputs": [],
   "source": [
    "video_root_folder = Path(\n",
    "    r'/Users/simonvanstaalduine/AMOLF-SHIMIZU Dropbox/Simon van Staalduine/033'\n",
    ")\n",
    "info_file_address = Path(video_root_folder / \"videoInfo.txt\")\n",
    "video_operator = videoControl(video_root_folder, info_file_address, resolution=1)\n",
    "mean_img = video_operator.mean_img\n",
    "kymographs = video_operator.get_kymographs()\n"
   ]
  },
  {
   "cell_type": "code",
   "execution_count": null,
   "id": "25cf170f",
   "metadata": {},
   "outputs": [
    {
     "name": "stdout",
     "output_type": "stream",
     "text": [
      "9.113402 -9.999646\n",
      "Initiating filters on new image with dims (600, 1927)\n"
     ]
    }
   ],
   "source": [
    "video_deltas = videoDeltas(\n",
    "    delta_t=1,\n",
    "    delta_x=1\n",
    ")\n",
    "\n",
    "OSFilter = orientationSpaceManager(\n",
    "    0.15,\n",
    "    freq_width=0.2,\n",
    "    K=16,\n",
    "    x_spacing=video_deltas.delta_x,\n",
    "    y_spacing=video_deltas.delta_t,\n",
    ")\n",
    "new_order = 8\n",
    "speed_limit=10\n",
    "\n",
    "for key, kymo in kymographs.items():\n",
    "    invert_im = video_operator.video_info.mode == \"brightfield\"\n",
    "\n",
    "    _, _, histo_b = OSFilter.demo_image(\n",
    "        kymo,\n",
    "        video_deltas.delta_x,\n",
    "        video_deltas.delta_t,\n",
    "        order=new_order,\n",
    "        thresh_method=\"triangle\",\n",
    "        invert=invert_im,\n",
    "        histo_thresh=.7,\n",
    "        speed_extent=speed_limit,\n",
    "    )"
   ]
  }
 ],
 "metadata": {
  "kernelspec": {
   "display_name": "flow-analysis-comps-wxie9OvL-py3.13",
   "language": "python",
   "name": "python3"
  },
  "language_info": {
   "codemirror_mode": {
    "name": "ipython",
    "version": 3
   },
   "file_extension": ".py",
   "mimetype": "text/x-python",
   "name": "python",
   "nbconvert_exporter": "python",
   "pygments_lexer": "ipython3",
   "version": "3.13.1"
  }
 },
 "nbformat": 4,
 "nbformat_minor": 5
}
