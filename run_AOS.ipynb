{
 "cells": [
  {
   "cell_type": "code",
   "execution_count": null,
   "metadata": {},
   "outputs": [],
   "source": [
    "from pathlib import Path\n",
    "import matplotlib as mpl\n",
    "\n",
    "import matplotlib.pyplot as plt\n",
    "from flow_analysis_comps.Fourier.OrientationSpaceManager import orientationSpaceManager\n",
    "from util.video_io import read_video_metadata, load_tif_series_to_dask\n",
    "import colorcet  # noqa: F401\n",
    "from video_manipulation.control_class import videoControl\n",
    "\n",
    "mpl.rcParams.update(mpl.rcParamsDefault)\n",
    "\n",
    "# plt.rcParams[\"text.usetex\"] = True\n",
    "plt.close(\"all\")\n",
    "\n",
    "%matplotlib widget\n",
    "\n",
    "%load_ext autoreload\n",
    "%autoreload 2"
   ]
  },
  {
   "cell_type": "code",
   "execution_count": null,
   "metadata": {},
   "outputs": [],
   "source": [
    "data_adr = Path(\n",
    "    r\"G:\\AMOLF_Data\\AMOLF-SHIMIZU Dropbox\\Simon van Staalduine\"\n",
    ")  # Personal PC path\n",
    "# data_adr = Path(\n",
    "#     r\"/Users/simonvanstaalduine/AMOLF-SHIMIZU Dropbox/Simon van Staalduine\"\n",
    "# )  # Personal mac path\n",
    "# data_adr = Path(r\"U:\\test_data\\20250122_Plate017\")\n",
    "\n",
    "plate_id = r\"20250122_Plate017\"\n",
    "video_id = r\"034\"\n",
    "\n",
    "total_path = data_adr / video_id / \"Img\"\n",
    "info_path = next(total_path.parent.glob(\"videoInfo.*\"))\n",
    "\n",
    "print(info_path)\n",
    "# info_path = total_path / \"videoInfo.json\"\n",
    "\n",
    "video_info = read_video_metadata(info_path)\n",
    "array = load_tif_series_to_dask(total_path)  # Dims are z, y, x\n",
    "video_control_obj = videoControl(total_path, info_path, resolution=1)\n",
    "\n",
    "print(video_info)\n"
   ]
  },
  {
   "cell_type": "code",
   "execution_count": null,
   "metadata": {},
   "outputs": [],
   "source": [
    "video_control_obj.plot_edge_extraction()"
   ]
  },
  {
   "cell_type": "code",
   "execution_count": null,
   "metadata": {},
   "outputs": [],
   "source": [
    "images = video_control_obj.save_edge_videos(info_path.parent)"
   ]
  },
  {
   "cell_type": "code",
   "execution_count": null,
   "metadata": {},
   "outputs": [],
   "source": [
    "import tifffile\n",
    "import numpy as np\n",
    "\n",
    "for edge in video_control_obj.edges:\n",
    "    fig, ax = plt.subplots()\n",
    "    ax.imshow(edge.kymograph)\n",
    "    ax.set_title(edge.edge_info)\n",
    "    tifffile.imwrite(\n",
    "        total_path.parent / f\"{edge.edge_info}.tiff\",\n",
    "        edge.edge_video,\n",
    "        imagej=True,\n",
    "        metadata={\"axes\": \"TYX\"},\n",
    "    )\n"
   ]
  },
  {
   "cell_type": "code",
   "execution_count": null,
   "metadata": {},
   "outputs": [],
   "source": [
    "OSFilter = orientationSpaceManager(\n",
    "    .3,\n",
    "    K=12,\n",
    "    x_spacing=video_control_obj.space_pixel_size,\n",
    "    y_spacing=video_control_obj.time_pixel_size,\n",
    ")\n",
    "\n",
    "print(video_control_obj.space_pixel_size,\n",
    "video_control_obj.time_pixel_size,)\n",
    "\n",
    "order = 12\n",
    "# img = video_control_obj.edges[2].kymograph\n",
    "for edge in video_control_obj.edges:\n",
    "    img = edge.kymograph\n",
    "    invert_im = video_control_obj.video_info.mode == \"brightfield\"\n",
    "    OSFilter.demo_image(\n",
    "        img,\n",
    "        video_control_obj.space_pixel_size,\n",
    "        video_control_obj.time_pixel_size,\n",
    "        order=order,\n",
    "        thresh_method=\"otsu\",\n",
    "        invert=invert_im,\n",
    "        histo_thresh=.5,\n",
    "    )\n"
   ]
  },
  {
   "cell_type": "markdown",
   "metadata": {},
   "source": [
    "## Testing the AOS filter on segmenting the hyphae themselves"
   ]
  },
  {
   "cell_type": "code",
   "execution_count": null,
   "metadata": {},
   "outputs": [],
   "source": [
    "import numpy as np\n",
    "\n",
    "\n",
    "def rebin(arr: np.ndarray, new_shape):\n",
    "    shape = (\n",
    "        new_shape[0],\n",
    "        arr.shape[0] // new_shape[0],\n",
    "        new_shape[1],\n",
    "        arr.shape[1] // new_shape[1],\n",
    "    )\n",
    "    return arr.reshape(shape).mean(-1).mean(1)\n",
    "\n",
    "\n",
    "OSFilterSegment = orientationSpaceManager(1, K=12)\n",
    "print(OSFilterSegment.filter.params.freq_width)\n",
    "order = 12\n",
    "img = video_control_obj.mean_img\n",
    "img = img.max() - img\n",
    "nx, ny = img.shape\n",
    "print(nx, ny)\n",
    "img = rebin(img, (nx // 15, ny // 16))\n",
    "\n",
    "\n",
    "OSFilter.demo_image(img, order=order, thresh_method=\"otsu\", pixel_size_space=1, pixel_size_time=1)"
   ]
  }
 ],
 "metadata": {
  "kernelspec": {
   "display_name": ".VENV",
   "language": "python",
   "name": "python3"
  },
  "language_info": {
   "codemirror_mode": {
    "name": "ipython",
    "version": 3
   },
   "file_extension": ".py",
   "mimetype": "text/x-python",
   "name": "python",
   "nbconvert_exporter": "python",
   "pygments_lexer": "ipython3",
   "version": "3.12.9"
  }
 },
 "nbformat": 4,
 "nbformat_minor": 2
}
