{
 "cells": [
  {
   "cell_type": "code",
   "execution_count": null,
   "metadata": {},
   "outputs": [],
   "source": [
    "from pathlib import Path\n",
    "import matplotlib as mpl\n",
    "\n",
    "import matplotlib.pyplot as plt\n",
    "import colorcet  # noqa: F401\n",
    "from flow_analysis_comps.video_manipulation.control_class import videoControl\n",
    "\n",
    "plt.close(\"all\")\n",
    "\n",
    "%matplotlib widget\n",
    "\n",
    "%load_ext autoreload\n",
    "%autoreload 2"
   ]
  },
  {
   "cell_type": "code",
   "execution_count": null,
   "metadata": {},
   "outputs": [],
   "source": [
    "video_root_folder = Path(r'/Users/simonvanstaalduine/AMOLF-SHIMIZU Dropbox/Simon van Staalduine/001 (1)')\n",
    "info_file_address = Path(video_root_folder / 'videoInfo.txt')\n",
    "video_operator = videoControl(video_root_folder, info_file_address)\n",
    "mean_img = video_operator.mean_img\n",
    "print(mean_img.shape)"
   ]
  },
  {
   "cell_type": "code",
   "execution_count": null,
   "metadata": {},
   "outputs": [],
   "source": [
    "kymographs = video_operator.get_kymographs()"
   ]
  },
  {
   "cell_type": "code",
   "execution_count": null,
   "metadata": {},
   "outputs": [],
   "source": [
    "for key, kymo in kymographs.items():\n",
    "    fig, ax = plt.subplots()\n",
    "    ax.imshow(kymo)"
   ]
  }
 ],
 "metadata": {
  "kernelspec": {
   "display_name": "flow-analysis-comps-wxie9OvL-py3.13",
   "language": "python",
   "name": "python3"
  },
  "language_info": {
   "codemirror_mode": {
    "name": "ipython",
    "version": 3
   },
   "file_extension": ".py",
   "mimetype": "text/x-python",
   "name": "python",
   "nbconvert_exporter": "python",
   "pygments_lexer": "ipython3",
   "version": "3.13.1"
  }
 },
 "nbformat": 4,
 "nbformat_minor": 2
}
