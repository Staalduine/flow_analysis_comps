{
 "cells": [
  {
   "cell_type": "code",
   "execution_count": null,
   "metadata": {},
   "outputs": [],
   "source": [
    "from pathlib import Path\n",
    "import matplotlib as mpl\n",
    "\n",
    "import matplotlib.pyplot as plt\n",
    "import colorcet  # noqa: F401\n",
    "from flow_analysis_comps.video_manipulation.control_class import videoControl\n",
    "from flow_analysis_comps.Classic.extract_velocity import kymoAnalyser, videoDeltas\n",
    "from flow_analysis_comps.Fourier.OrientationSpaceManager import orientationSpaceManager\n",
    "\n",
    "plt.close(\"all\")\n",
    "\n",
    "%matplotlib widget\n",
    "\n",
    "%load_ext autoreload\n",
    "%autoreload 2"
   ]
  },
  {
   "cell_type": "code",
   "execution_count": null,
   "metadata": {},
   "outputs": [],
   "source": [
    "video_root_folder = Path(\n",
    "    r'/Users/simonvanstaalduine/AMOLF-SHIMIZU Dropbox/Simon van Staalduine/033'\n",
    ")\n",
    "info_file_address = Path(video_root_folder / \"videoInfo.txt\")\n",
    "video_operator = videoControl(video_root_folder, info_file_address, resolution=1)\n",
    "mean_img = video_operator.mean_img\n",
    "# video_operator.save_mp4_video()"
   ]
  },
  {
   "cell_type": "code",
   "execution_count": null,
   "metadata": {},
   "outputs": [],
   "source": [
    "kymographs = video_operator.get_kymographs()\n",
    "# video_operator.save_edge_videos(video_root_folder)"
   ]
  },
  {
   "cell_type": "code",
   "execution_count": null,
   "metadata": {},
   "outputs": [],
   "source": [
    "import numpy as np\n",
    "\n",
    "\n",
    "# video_deltas = videoDeltas(\n",
    "#     delta_x=video_operator.space_pixel_size,\n",
    "#     delta_t=video_operator.time_pixel_size\n",
    "# )\n",
    "\n",
    "video_deltas = videoDeltas(\n",
    "    delta_t=1,\n",
    "    delta_x=1\n",
    ")\n",
    "\n",
    "OSFilter = orientationSpaceManager(\n",
    "    0.15,\n",
    "    freq_width=0.2,\n",
    "    K=16,\n",
    "    x_spacing=video_deltas.delta_x,\n",
    "    y_spacing=video_deltas.delta_t,\n",
    ")\n",
    "\n",
    "new_order = 8\n",
    "speed_limit = 10\n",
    "\n",
    "for key, kymo in kymographs.items():\n",
    "    analyser = kymoAnalyser(kymo, video_deltas=video_deltas, speed_threshold=speed_limit)\n",
    "    analyser.plot_kymo_fields()\n",
    "    # fig, ax = analyser.plot_summary()\n",
    "    # fig.savefig(video_root_folder / f\"{key}_summary.png\")\n",
    "    image_l, image_r = analyser.kymograph_decomposed_directions\n",
    "    invert_im = video_operator.video_info.mode == \"brightfield\"\n",
    "    # _, _, histo_l = OSFilter.demo_image(\n",
    "    #     image_l,\n",
    "    #     video_operator.space_pixel_size,\n",
    "    #     video_operator.time_pixel_size,\n",
    "    #     order=new_order,\n",
    "    #     thresh_method=\"triangle\",\n",
    "    #     invert=invert_im,\n",
    "    #     histo_thresh=1.2,\n",
    "    #     speed_extent=speed_limit,\n",
    "    # )\n",
    "    # _, _, histo_r = OSFilter.demo_image(\n",
    "    #     image_r,\n",
    "    #     video_operator.space_pixel_size,\n",
    "    #     video_operator.time_pixel_size,\n",
    "    #     order=new_order,\n",
    "    #     thresh_method=\"triangle\",\n",
    "    #     invert=invert_im,\n",
    "    #     histo_thresh=1.2,\n",
    "    #     speed_extent=speed_limit,\n",
    "    # )\n",
    "    _, _, histo_b = OSFilter.demo_image(\n",
    "        kymo,\n",
    "        video_deltas.delta_x,\n",
    "        video_deltas.delta_t,\n",
    "        order=new_order,\n",
    "        thresh_method=\"triangle\",\n",
    "        invert=invert_im,\n",
    "        histo_thresh=.7,\n",
    "        speed_extent=speed_limit,\n",
    "    )"
   ]
  },
  {
   "cell_type": "code",
   "execution_count": null,
   "metadata": {},
   "outputs": [],
   "source": [
    "fig, ax = plt.subplots()\n",
    "histo_l_n = histo_l / np.max(histo_l)\n",
    "histo_r_n = histo_r / np.max(histo_r)\n",
    "ax.imshow((histo_l_n + histo_r_n).T,\n",
    "            cmap=\"cet_CET_L16\",\n",
    "            extent=(0, len(histo_l) * video_deltas.delta_t, -speed_limit, speed_limit),\n",
    "            aspect='auto')"
   ]
  }
 ],
 "metadata": {
  "kernelspec": {
   "display_name": "flow-analysis-comps-wxie9OvL-py3.13",
   "language": "python",
   "name": "python3"
  },
  "language_info": {
   "codemirror_mode": {
    "name": "ipython",
    "version": 3
   },
   "file_extension": ".py",
   "mimetype": "text/x-python",
   "name": "python",
   "nbconvert_exporter": "python",
   "pygments_lexer": "ipython3",
   "version": "3.13.1"
  }
 },
 "nbformat": 4,
 "nbformat_minor": 2
}
