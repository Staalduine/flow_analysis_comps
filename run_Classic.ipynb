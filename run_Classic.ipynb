{
 "cells": [
  {
   "cell_type": "code",
   "execution_count": null,
   "metadata": {},
   "outputs": [],
   "source": [
    "from pathlib import Path\n",
    "import matplotlib as mpl\n",
    "\n",
    "import matplotlib.pyplot as plt\n",
    "import colorcet  # noqa: F401\n",
    "from flow_analysis_comps.video_manipulation.control_class import videoControl\n",
    "from flow_analysis_comps.Classic.extract_velocity import kymoAnalyser, videoDeltas\n",
    "\n",
    "plt.close(\"all\")\n",
    "\n",
    "%matplotlib widget\n",
    "\n",
    "%load_ext autoreload\n",
    "%autoreload 2"
   ]
  },
  {
   "cell_type": "code",
   "execution_count": null,
   "metadata": {},
   "outputs": [],
   "source": [
    "video_root_folder = Path(r'/Users/simonvanstaalduine/AMOLF-SHIMIZU Dropbox/Simon van Staalduine/034')\n",
    "info_file_address = Path(video_root_folder / 'videoInfo.txt')\n",
    "video_operator = videoControl(video_root_folder, info_file_address)\n",
    "mean_img = video_operator.mean_img\n",
    "print(mean_img.shape)"
   ]
  },
  {
   "cell_type": "code",
   "execution_count": null,
   "metadata": {},
   "outputs": [],
   "source": [
    "kymographs = video_operator.get_kymographs()"
   ]
  },
  {
   "cell_type": "code",
   "execution_count": null,
   "metadata": {},
   "outputs": [],
   "source": [
    "video_deltas = videoDeltas(\n",
    "    delta_x=video_operator.space_pixel_size,\n",
    "    delta_t=video_operator.time_pixel_size\n",
    ")\n",
    "\n",
    "\n",
    "for key, kymo in kymographs.items():\n",
    "    fig, ax = plt.subplots(2, 2)\n",
    "    # ax.imshow(kymo)\n",
    "\n",
    "    analyser = kymoAnalyser(kymo, video_deltas=video_deltas)\n",
    "    decomposition = analyser.kymograph_decomposed_directions\n",
    "\n",
    "    ax[0][0].imshow(analyser.kymograph_decomposed_directions[0])\n",
    "    ax[0][1].imshow(analyser.kymograph_decomposed_directions[1])\n",
    "    result = analyser.speed_images\n",
    "    ax[1][0].imshow(result[0])\n",
    "    ax[1][1].imshow(result[1])\n",
    "    "
   ]
  }
 ],
 "metadata": {
  "kernelspec": {
   "display_name": "flow-analysis-comps-wxie9OvL-py3.13",
   "language": "python",
   "name": "python3"
  },
  "language_info": {
   "codemirror_mode": {
    "name": "ipython",
    "version": 3
   },
   "file_extension": ".py",
   "mimetype": "text/x-python",
   "name": "python",
   "nbconvert_exporter": "python",
   "pygments_lexer": "ipython3",
   "version": "3.13.1"
  }
 },
 "nbformat": 4,
 "nbformat_minor": 2
}
