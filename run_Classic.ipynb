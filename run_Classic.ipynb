{
 "cells": [
  {
   "cell_type": "code",
   "execution_count": null,
   "metadata": {},
   "outputs": [],
   "source": [
    "from pathlib import Path\n",
    "import matplotlib as mpl\n",
    "\n",
    "import matplotlib.pyplot as plt\n",
    "import colorcet  # noqa: F401\n",
    "from flow_analysis_comps.video_manipulation.control_class import videoControl\n",
    "from flow_analysis_comps.Classic.extract_velocity import kymoAnalyser, videoDeltas\n",
    "from flow_analysis_comps.Fourier.OrientationSpaceManager import orientationSpaceManager\n",
    "\n",
    "plt.close(\"all\")\n",
    "\n",
    "%matplotlib widget\n",
    "\n",
    "%load_ext autoreload\n",
    "%autoreload 2"
   ]
  },
  {
   "cell_type": "code",
   "execution_count": null,
   "metadata": {},
   "outputs": [],
   "source": [
    "video_root_folder = Path(r'C:\\Users\\vstaalduine\\AMOLF-SHIMIZU Dropbox\\Simon van Staalduine\\034')\n",
    "info_file_address = Path(video_root_folder / 'videoInfo.txt')\n",
    "video_operator = videoControl(video_root_folder, info_file_address)\n",
    "mean_img = video_operator.mean_img\n",
    "print(mean_img.shape)"
   ]
  },
  {
   "cell_type": "code",
   "execution_count": null,
   "metadata": {},
   "outputs": [],
   "source": [
    "kymographs = video_operator.get_kymographs()"
   ]
  },
  {
   "cell_type": "code",
   "execution_count": null,
   "metadata": {},
   "outputs": [],
   "source": [
    "import numpy as np\n",
    "\n",
    "\n",
    "video_deltas = videoDeltas(\n",
    "    delta_x=video_operator.space_pixel_size,\n",
    "    delta_t=video_operator.time_pixel_size\n",
    ")\n",
    "\n",
    "OSFilter = orientationSpaceManager(\n",
    "    .25,\n",
    "    freq_width=.5,\n",
    "    K=16,\n",
    "    x_spacing=video_operator.space_pixel_size,\n",
    "    y_spacing=video_operator.time_pixel_size,\n",
    ")\n",
    "\n",
    "new_order=  12\n",
    "\n",
    "for key, kymo in kymographs.items():\n",
    "    analyser = kymoAnalyser(kymo, video_deltas=video_deltas)\n",
    "    analyser.plot_kymo_fields()\n",
    "    fig, ax = analyser.plot_summary()\n",
    "    fig.savefig(video_root_folder / f\"{key}_summary.png\")\n",
    "    image_l, image_r = analyser.kymograph_decomposed_directions\n",
    "    invert_im = video_operator.video_info.mode == \"brightfield\"    \n",
    "    OSFilter.demo_image(\n",
    "        image_l,\n",
    "        video_operator.space_pixel_size,\n",
    "        video_operator.time_pixel_size,\n",
    "        order=new_order,\n",
    "        thresh_method=\"triangle\",\n",
    "        invert=invert_im,\n",
    "        histo_thresh=.4,\n",
    "        speed_extent=10\n",
    "    )    \n",
    "    OSFilter.demo_image(\n",
    "        image_r,\n",
    "        video_operator.space_pixel_size,\n",
    "        video_operator.time_pixel_size,\n",
    "        order=new_order,\n",
    "        thresh_method=\"triangle\",\n",
    "        invert=invert_im,\n",
    "        histo_thresh=.5,\n",
    "        speed_extent=10\n",
    "    )\n",
    "    "
   ]
  }
 ],
 "metadata": {
  "kernelspec": {
   "display_name": "flow-analysis-comps-Qa29NZEP-py3.12",
   "language": "python",
   "name": "python3"
  },
  "language_info": {
   "codemirror_mode": {
    "name": "ipython",
    "version": 3
   },
   "file_extension": ".py",
   "mimetype": "text/x-python",
   "name": "python",
   "nbconvert_exporter": "python",
   "pygments_lexer": "ipython3",
   "version": "3.12.9"
  }
 },
 "nbformat": 4,
 "nbformat_minor": 2
}
