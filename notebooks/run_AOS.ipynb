{
 "cells": [
  {
   "cell_type": "code",
   "execution_count": null,
   "metadata": {},
   "outputs": [],
   "source": [
    "from pathlib import Path\n",
    "\n",
    "import matplotlib.pyplot as plt\n",
    "from flow_analysis_comps.processing.Fourier.OrientationSpaceManager import (\n",
    "    orientationSpaceManager,\n",
    ")\n",
    "import colorcet  # noqa: F401\n",
    "from flow_analysis_comps.data_structs.AOS_structs import OSFilterParams\n",
    "from flow_analysis_comps.data_structs.kymographs import (\n",
    "    graphExtractConfig,\n",
    "    kymoExtractConfig,\n",
    ")\n",
    "from flow_analysis_comps.processing.graph_extraction.graph_extract import (\n",
    "    VideoGraphExtractor,\n",
    ")\n",
    "from flow_analysis_comps.processing.kymographing.kymographer import KymographExtractor\n",
    "\n",
    "\n",
    "%matplotlib widget\n",
    "\n",
    "%load_ext autoreload\n",
    "%autoreload 2\n",
    "\n",
    "video_root_folder = Path(\n",
    "    r\"/Users/simonvanstaalduine/AMOLF-SHIMIZU Dropbox/Simon van Staalduine/033\"\n",
    "    # r\"G:\\AMOLF_Data\\AMOLF-SHIMIZU Dropbox\\Simon van Staalduine\\033\"\n",
    ")\n",
    "graph_data = VideoGraphExtractor(video_root_folder, graphExtractConfig()).edge_data\n",
    "kymograph_list = KymographExtractor(\n",
    "    graph_data, kymoExtractConfig()\n",
    ").processed_kymographs\n",
    "\n",
    "AOS_params = OSFilterParams(\n",
    "    space_frequency_center=0.25,\n",
    "    space_frequency_width=0.3,\n",
    "    orientation_accuracy=8.0,\n",
    "    x_spacing=kymograph_list[0].deltas.delta_x,\n",
    "    y_spacing=kymograph_list[0].deltas.delta_t,\n",
    ")\n",
    "AOS_manager = orientationSpaceManager(AOS_params, kymograph_list[0].kymo_no_static)\n",
    "\n",
    "angles_dict = AOS_manager.get_all_angles()"
   ]
  },
  {
   "cell_type": "code",
   "execution_count": null,
   "metadata": {},
   "outputs": [],
   "source": [
    "angles_response = AOS_manager.refine_all_angles(4.0, angles_dict)"
   ]
  },
  {
   "cell_type": "code",
   "execution_count": null,
   "metadata": {},
   "outputs": [],
   "source": [
    "from flow_analysis_comps.visualizing.kymographs import kymoVisualizer\n",
    "from flow_analysis_comps.visualizing.AOSFilterVisualizer import AOSVisualizer\n",
    "\n",
    "AOS_viz = AOSVisualizer(AOS_params)\n",
    "AOS_viz.demo_image(AOS_manager)"
   ]
  }
 ],
 "metadata": {
  "kernelspec": {
   "display_name": ".venv",
   "language": "python",
   "name": "python3"
  },
  "language_info": {
   "codemirror_mode": {
    "name": "ipython",
    "version": 3
   },
   "file_extension": ".py",
   "mimetype": "text/x-python",
   "name": "python",
   "nbconvert_exporter": "python",
   "pygments_lexer": "ipython3",
   "version": "3.12.10"
  }
 },
 "nbformat": 4,
 "nbformat_minor": 2
}
