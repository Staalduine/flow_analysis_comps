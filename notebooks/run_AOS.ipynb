{
 "cells": [
  {
   "cell_type": "markdown",
   "metadata": {},
   "source": [
    "# Run AOS on real images"
   ]
  },
  {
   "cell_type": "code",
   "execution_count": null,
   "metadata": {},
   "outputs": [],
   "source": [
    "from pathlib import Path\n",
    "\n",
    "import matplotlib.pyplot as plt\n",
    "from flow_analysis_comps.processing.Fourier.OrientationSpaceManager import (\n",
    "    orientationSpaceManager,\n",
    ")\n",
    "import colorcet  # noqa: F401\n",
    "from flow_analysis_comps.data_structs.AOS_structs import OSFilterParams\n",
    "from flow_analysis_comps.data_structs.kymographs import (\n",
    "    graphExtractConfig,\n",
    "    kymoExtractConfig,\n",
    ")\n",
    "from flow_analysis_comps.processing.graph_extraction.graph_extract import (\n",
    "    VideoGraphExtractor,\n",
    ")\n",
    "from flow_analysis_comps.processing.kymographing.kymographer import KymographExtractor\n",
    "import colorcet as cc\n",
    "\n",
    "%matplotlib widget\n",
    "\n",
    "%load_ext autoreload\n",
    "%autoreload 2\n",
    "\n"
   ]
  },
  {
   "cell_type": "code",
   "execution_count": null,
   "metadata": {},
   "outputs": [],
   "source": [
    "video_root_folder = Path(\n",
    "    r\"U:\\test_data\\davis_data\\wide_brightfield\"\n",
    "    # r\"G:\\AMOLF_Data\\AMOLF-SHIMIZU Dropbox\\Simon van Staalduine\\033\"\n",
    ")\n",
    "graph_data = VideoGraphExtractor(video_root_folder, graphExtractConfig()).edge_data\n",
    "kymograph_list = KymographExtractor(\n",
    "    graph_data, kymoExtractConfig()\n",
    ").processed_kymographs\n",
    "\n",
    "AOS_params = OSFilterParams(\n",
    "    space_frequency_center=0.25,\n",
    "    space_frequency_width=0.3,\n",
    "    orientation_accuracy=8.0,\n",
    "    x_spacing=kymograph_list[0].deltas.delta_x,\n",
    "    y_spacing=kymograph_list[0].deltas.delta_t,\n",
    "    padding=50\n",
    ")\n",
    "AOS_manager = orientationSpaceManager(AOS_params, kymograph_list[0].kymo_no_static)\n",
    "\n",
    "angles_dict = AOS_manager.get_all_angles()"
   ]
  },
  {
   "cell_type": "code",
   "execution_count": null,
   "metadata": {},
   "outputs": [],
   "source": [
    "angles_response = AOS_manager.refine_all_angles(4.0, angles_dict)"
   ]
  },
  {
   "cell_type": "code",
   "execution_count": null,
   "metadata": {},
   "outputs": [],
   "source": [
    "from flow_analysis_comps.visualizing.kymographs import kymoVisualizer\n",
    "from flow_analysis_comps.visualizing.AOSFilterVisualizer import AOSVisualizer\n",
    "\n",
    "AOS_viz = AOSVisualizer(AOS_params)\n",
    "AOS_viz.demo_image(AOS_manager)"
   ]
  },
  {
   "cell_type": "markdown",
   "metadata": {},
   "source": [
    "# Test the angular filter"
   ]
  },
  {
   "cell_type": "code",
   "execution_count": null,
   "metadata": {},
   "outputs": [],
   "source": [
    "import numpy as np\n",
    "from flow_analysis_comps.util.coord_space_util import freqSpaceCoords\n",
    "\n",
    "\n",
    "coords = freqSpaceCoords(\n",
    "    (21, 21), x_spacing=1, y_spacing=1\n",
    ")\n",
    "theta_show = coords.theta + np.pi\n",
    "angles = np.arange(5) / 5 * np.pi            \n",
    "s_a = np.pi / 5\n",
    "\n",
    "print(angles)\n",
    "\n",
    "step_1 = theta_show - angles[2]\n",
    "step_2 = ((step_1 + np.pi) % (2 * np.pi)) - np.pi\n",
    "posMask = np.abs(step_2) < np.pi / 2\n",
    "theta_s = step_2 / s_a\n",
    "\n",
    "\n",
    "angularFilter = 2 * np.exp(-(theta_s**2) / 2)\n",
    "angularFilter_reversed = np.fft.ifftshift(np.fft.fftshift(angularFilter)[::-1, ::-1])\n",
    "filterKernel = 0.5 * (angularFilter + angularFilter_reversed)\n",
    "filterKernel = filterKernel * (1 + 1j * (posMask * 2 - 1))\n",
    "\n",
    "fig, ax = plt.subplots(1,3)\n",
    "ax[0].imshow(angularFilter, origin='lower')\n",
    "ax[1].imshow(angularFilter_reversed, origin='lower')\n",
    "ax[2].imshow(np.fft.fftshift(filterKernel.real), origin='lower')"
   ]
  },
  {
   "cell_type": "markdown",
   "metadata": {},
   "source": [
    "# Test with test data"
   ]
  },
  {
   "cell_type": "code",
   "execution_count": null,
   "metadata": {},
   "outputs": [],
   "source": [
    "from flow_analysis_comps.test_data import single_line_img, crossing_line_img\n",
    "from flow_analysis_comps.util.image_manips import mirror_pad_with_exponential_fade\n",
    "import numpy as np\n",
    "\n",
    "single_line_angle = 30\n",
    "\n",
    "test_single = single_line_img(single_line_angle, std_dev=1, img_size=(101, 101))\n",
    "test_crossing = crossing_line_img([45, 135], [1, 1])\n",
    "\n",
    "# test_single = mirror_pad_with_exponential_fade(test_single, pad)\n",
    "# test_crossing = mirror_pad_with_exponential_fade(test_crossing, pad)\n",
    "\n",
    "fig, ax = plt.subplots(2)\n",
    "ax[0].imshow(test_single)\n",
    "ax[1].imshow(test_crossing)"
   ]
  },
  {
   "cell_type": "code",
   "execution_count": null,
   "metadata": {},
   "outputs": [],
   "source": [
    "AOS_params = OSFilterParams(\n",
    "    space_frequency_center=.05,\n",
    "    # space_frequency_width=0.3,\n",
    "    orientation_accuracy=16.0,\n",
    "    x_spacing=1,\n",
    "    y_spacing=1,\n",
    "    padding=50\n",
    ")\n",
    "\n",
    "print(AOS_params.nr_of_samples)\n",
    "AOS_manager = orientationSpaceManager(AOS_params, test_single)\n",
    "\n",
    "filter_arrays = AOS_manager.filter_arrays\n",
    "print(filter_arrays.shape)\n",
    "\n",
    "\n",
    "angles_dict = AOS_manager.get_max_angles()\n",
    "nlms_mask = AOS_manager.nlms_simple_case()"
   ]
  },
  {
   "cell_type": "code",
   "execution_count": null,
   "metadata": {},
   "outputs": [],
   "source": [
    "filters = np.moveaxis(filter_arrays, 2, 0)\n",
    "\n",
    "fig, ax = plt.subplots(len(filters))\n",
    "for i, filter_ in enumerate(filters):\n",
    "    ax[i].imshow(np.fft.fftshift(abs(filter_)))"
   ]
  },
  {
   "cell_type": "code",
   "execution_count": null,
   "metadata": {},
   "outputs": [],
   "source": [
    "\n",
    "full_orientation = np.rad2deg(angles_dict)\n",
    "nlms_orientation = np.where(nlms_mask, np.rad2deg(angles_dict), np.nan)"
   ]
  },
  {
   "cell_type": "code",
   "execution_count": null,
   "metadata": {},
   "outputs": [],
   "source": [
    "from flow_analysis_comps.visualizing.AOSFilterVisualizer import AOSVisualizer\n",
    "import numpy as np\n",
    "\n",
    "# angles_max_max = np.nanmax(angles_dict[\"angles_maxima\"].real, axis=0)\n",
    "# print(angles_dict.keys())\n",
    "\n",
    "fig, ax = plt.subplot_mosaic([[\"Orientation\", \"NLMS_orientation\"], [\"Histograms\", \"Histograms\"]])\n",
    "ax[\"Orientation\"].imshow(full_orientation, cmap=cc.cm.rainbow4, vmin=0, vmax=180)\n",
    "ax[\"NLMS_orientation\"].imshow(nlms_orientation, cmap=cc.cm.rainbow4, vmin=0, vmax=180)\n",
    "ax[\"Histograms\"].hist(full_orientation.flatten(), bins=180, range=(0, 180), density=True, alpha=.5, label=\"all pixels\", color=\"red\")\n",
    "ax[\"Histograms\"].hist(nlms_orientation.flatten(), bins=180, range=(0, 180), density=True, alpha=.5, label=\"NLMS Pixels\", color=\"green\")\n",
    "ax[\"Histograms\"].axvline(45)\n",
    "ax[\"Histograms\"].axvline(135)\n",
    "ax[\"Histograms\"].axvline(single_line_angle, c=\"red\")\n",
    "ax[\"Histograms\"].axvline((single_line_angle+90) % 180, c=\"red\")\n",
    "ax[\"Histograms\"].legend()\n"
   ]
  },
  {
   "cell_type": "code",
   "execution_count": null,
   "metadata": {},
   "outputs": [],
   "source": [
    "filter_stack = AOS_manager.response.response_stack\n",
    "\n",
    "print(filter_stack.shape)\n",
    "\n",
    "nyquist = int(np.ceil((len(filter_stack) + 1) / 2))\n",
    "response_frequencies = np.concatenate([np.arange(nyquist), -np.arange(nyquist - 1, 0, -1)])\n",
    "response_frequencies_full = response_frequencies[..., np.newaxis, np.newaxis]  # Add new axis for broadcasting\n",
    "response_angles = AOS_manager.response.range_of_angles / np.pi * 180\n",
    "freq_axis = np.fft.fftshift(response_frequencies)\n",
    "\n",
    "filter_stack_fft = np.fft.fft(filter_stack, axis=0)\n",
    "response_fft_derivative1 = filter_stack_fft * (1j * response_frequencies_full)\n",
    "# response_fft_derivative2 = filter_stack_fft * -(response_frequencies_full**2)\n",
    "\n",
    "filter_stack_fft_shift = np.fft.fftshift(filter_stack_fft, axes=0)\n",
    "print(response_frequencies)\n",
    "print(np.fft.fftshift(response_frequencies))\n",
    "\n",
    "fig, ax = plt.subplots(len(filter_stack))\n",
    "for i, img in enumerate(filter_stack):\n",
    "    ax[i].imshow(img.real, vmin=-.005, vmax=.005)\n",
    "\n",
    "points = [\n",
    "    [20, 20], \n",
    "    [50, 50], \n",
    "    [20, 80], \n",
    "    # [50, 0]\n",
    "    ]\n",
    "\n",
    "fig, ax = plt.subplots(1, 3, figsize=(10, 5))\n",
    "\n",
    "ax[0].set_title(\"Filter Response\")\n",
    "ax[1].set_title(\"Filter Response FFT\")\n",
    "ax[2].set_title(\"Derivative Filter Response FFT\")\n",
    "\n",
    "for point in points:\n",
    "    ax[0].plot(response_angles, filter_stack[:, *point], label=f\"{point}\")\n",
    "    ax[1].plot(freq_axis, np.fft.fftshift(filter_stack_fft[:, *point]), label=f\"{point}\")\n",
    "    ax[2].plot(freq_axis, np.fft.fftshift(response_fft_derivative1[:, *point]), label=f\"{point}\")\n",
    "\n",
    "\n",
    "ax[0].legend()\n",
    "ax[1].legend()\n",
    "ax[2].legend()"
   ]
  },
  {
   "cell_type": "code",
   "execution_count": null,
   "metadata": {},
   "outputs": [],
   "source": [
    "# print(response_fft_derivative1[:, *points[0]])\n",
    "sequence_fft = response_fft_derivative1[:, *points[2]]\n",
    "\n",
    "N = len(sequence_fft)\n",
    "K = N // 2\n",
    "c = np.fft.fftshift(sequence_fft)\n",
    "\n",
    "c /= c[-1]\n",
    "n = N\n",
    "companion = np.zeros((n,n), dtype=np.complex128)\n",
    "companion[1:, :-1] = np.eye(n-1, dtype=np.complex128)\n",
    "companion[0, 1:] = c[:-1][::-1]\n",
    "roots = np.linalg.eigvals(companion)\n",
    "magnitudes = abs(roots)\n",
    "\n",
    "angles= np.log(roots)\n",
    "angles = np.rad2deg(np.angle(angles * -1j/2)) \n",
    "# angles = np.where(abs(np.log(magnitudes)) < .9, angles, -1)\n",
    "print(companion)\n",
    "print(angles)\n",
    "print(magnitudes)"
   ]
  },
  {
   "cell_type": "code",
   "execution_count": null,
   "metadata": {},
   "outputs": [],
   "source": [
    "angles_all = AOS_manager.get_all_angles()\n",
    "angles_max = np.nanmax(angles_all[\"maxima_value\"], axis=0)"
   ]
  },
  {
   "cell_type": "code",
   "execution_count": null,
   "metadata": {},
   "outputs": [],
   "source": [
    "plt.figure()\n",
    "plt.imshow(np.rad2deg(angles_all[\"angles_maxima\"][0]), vmin=0, vmax=360, cmap=cc.cm.rainbow4)"
   ]
  }
 ],
 "metadata": {
  "kernelspec": {
   "display_name": "flow-analysis-comps-py3.12",
   "language": "python",
   "name": "python3"
  },
  "language_info": {
   "codemirror_mode": {
    "name": "ipython",
    "version": 3
   },
   "file_extension": ".py",
   "mimetype": "text/x-python",
   "name": "python",
   "nbconvert_exporter": "python",
   "pygments_lexer": "ipython3",
   "version": "3.12.9"
  }
 },
 "nbformat": 4,
 "nbformat_minor": 2
}
