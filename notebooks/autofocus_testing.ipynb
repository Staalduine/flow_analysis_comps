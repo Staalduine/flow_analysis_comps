{
 "cells": [
  {
   "cell_type": "code",
   "execution_count": null,
   "id": "7dd8a266",
   "metadata": {},
   "outputs": [],
   "source": [
    "from flow_analysis_comps.Autofocus.autofocus_methods import FocusAnalyzer\n",
    "from pathlib import Path"
   ]
  },
  {
   "cell_type": "code",
   "execution_count": null,
   "id": "615a7946",
   "metadata": {},
   "outputs": [],
   "source": [
    "focusser = FocusAnalyzer(\n",
    "    Path(r\"\\\\sun\\shimizu\\engineering-projects\\Aretha\\Resources\\ZStacks\\ART2503A083_Pos08\\Static\\Img_X-4.401_Y11.042_Z-7.5610_-7.5310.tif\"),\n",
    "    frangi_sigmas=[40]\n",
    "    )"
   ]
  },
  {
   "cell_type": "code",
   "execution_count": null,
   "id": "60e4a182",
   "metadata": {},
   "outputs": [],
   "source": [
    "imgs = focusser.apply_curvilinear_filter()\n"
   ]
  },
  {
   "cell_type": "code",
   "execution_count": null,
   "id": "3b21415f",
   "metadata": {},
   "outputs": [],
   "source": [
    "from matplotlib import pyplot as plt\n",
    "\n",
    "\n",
    "plt.figure()\n",
    "plt.imshow(imgs[14], cmap='gray')"
   ]
  },
  {
   "cell_type": "code",
   "execution_count": null,
   "id": "aff906e4",
   "metadata": {},
   "outputs": [],
   "source": [
    "focusser.compute_combined_focus_metrics(use_masked=True)\n",
    "focusser.plot_combined_focus()\n",
    "focusser.show_best_focus_frame_combined(use_masked=True)"
   ]
  }
 ],
 "metadata": {
  "kernelspec": {
   "display_name": ".venv",
   "language": "python",
   "name": "python3"
  },
  "language_info": {
   "codemirror_mode": {
    "name": "ipython",
    "version": 3
   },
   "file_extension": ".py",
   "mimetype": "text/x-python",
   "name": "python",
   "nbconvert_exporter": "python",
   "pygments_lexer": "ipython3",
   "version": "3.12.10"
  }
 },
 "nbformat": 4,
 "nbformat_minor": 5
}
