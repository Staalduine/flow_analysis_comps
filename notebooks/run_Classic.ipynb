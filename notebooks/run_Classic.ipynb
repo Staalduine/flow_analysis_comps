{
 "cells": [
  {
   "cell_type": "code",
   "execution_count": null,
   "metadata": {},
   "outputs": [],
   "source": [
    "from datetime import timedelta\n",
    "from pathlib import Path\n",
    "\n",
    "from flow_analysis_comps.data_structs import (\n",
    "    videoInfo,\n",
    "    GST_params,\n",
    "    kymoExtractConfig,\n",
    "    kymoOutputs\n",
    ")\n",
    "import tifffile\n",
    "from flow_analysis_comps.processing.kymographing.kymographer import KymographExtractor\n",
    "from flow_analysis_comps.scripts.classic_flow_extraction import (\n",
    "    process_kymo,\n",
    "    process_video,\n",
    ")\n",
    "\n",
    "%matplotlib widget\n",
    "\n",
    "%load_ext autoreload\n",
    "%autoreload 2"
   ]
  },
  {
   "cell_type": "markdown",
   "metadata": {},
   "source": [
    "# Running the classic extraction: Whole videos\n",
    "Below, a whole video will be processed using the input arguments that you can give in the metadata. In the first block you input the video settings, then in the second block you can run the analysis."
   ]
  },
  {
   "cell_type": "code",
   "execution_count": null,
   "metadata": {},
   "outputs": [],
   "source": [
    "from flow_analysis_comps.data_structs.video_metadata_structs import cameraPosition, cameraSettings, videoMode\n",
    "\n",
    "\n",
    "Input_video_path = Path(r\"/Users/simonvanstaalduine/AMOLF-SHIMIZU Dropbox/Simon van Staalduine/134438\")\n",
    "Output_folder = Path(r\"/Users/simonvanstaalduine/AMOLF-SHIMIZU Dropbox/Simon van Staalduine/Output\")\n",
    "frames_paths_list = list(Input_video_path.glob(\"*.ti*\"))\n",
    "\n",
    "camera_settings = cameraSettings(\n",
    "    model=\"Davis\",\n",
    "    exposure_us=100.0,\n",
    "    frame_rate=30.0,\n",
    "    frame_size=[2040, 520],  # Pixel size of single image\n",
    "    binning=2,\n",
    "    gain=1.0,\n",
    "    gamma=0.0,\n",
    "    pixel_size=1.725,  # um camera sensor pixel size\n",
    ")\n",
    "\n",
    "input_metadata = videoInfo(\n",
    "    root_path=Input_video_path,\n",
    "    duration=timedelta(seconds=10),\n",
    "    frame_nr=len(frames_paths_list),\n",
    "    mode=videoMode.BRIGHTFIELD,  # BRIGHTFIELD or FLUORESCENCE\n",
    "    magnification=50.0,\n",
    "    camera=camera_settings,\n",
    "    position=cameraPosition(x=0.0, y=0.0, z=0.0),  # Position of camera in micrometers\n",
    ")\n",
    "speed_config = GST_params()\n",
    "graph_extraction_config = kymoExtractConfig(target_length=80)  # Pixel width of hyphae\n",
    "\n",
    "data_output_folder = Output_folder / Input_video_path.name\n",
    "data_output_folder.mkdir(exist_ok=True)\n"
   ]
  },
  {
   "cell_type": "code",
   "execution_count": null,
   "metadata": {},
   "outputs": [],
   "source": [
    "process_video(\n",
    "    Input_video_path,\n",
    "    data_output_folder,\n",
    "    speed_config,\n",
    "    graph_extraction_config,\n",
    "    user_metadata=input_metadata,\n",
    ")"
   ]
  },
  {
   "cell_type": "markdown",
   "metadata": {},
   "source": [
    "# Running the classic extraction: Single kymographs\n",
    "If you have a single kymograph, and you want to process it, you need to give the dx and dt, and the rest will be sorted for you."
   ]
  },
  {
   "cell_type": "code",
   "execution_count": null,
   "metadata": {},
   "outputs": [],
   "source": [
    "input_img_path = Path(r\"U:\\test_data\\temp_flow_output\\kymo_folder\\SCP_test.tif\")\n",
    "out_folder = Path(r\"U:\\test_data\\temp_flow_output\\kymo_folder\")\n",
    "out_data_folder = (out_folder / input_img_path.stem).mkdir(exist_ok=True)\n",
    "input_img = tifffile.imread(input_img_path)\n",
    "input_kymos = KymographExtractor._decompose_kymograph(input_img)\n",
    "\n",
    "frame_rate = 20.0  # Hz\n",
    "camera_sensor_size_um = 1.725  # um camera sensor pixel size\n",
    "camera_binning = 2  # Binning factor for the camera\n",
    "magnification = 50.0  # Magnification of the microscope\n",
    "\n",
    "kymograph = kymoOutputs(\n",
    "    deltas=kymoDeltas(\n",
    "        delta_t=1 / frame_rate,\n",
    "        delta_x=camera_sensor_size_um / magnification * camera_binning * 2,\n",
    "    ),\n",
    "    name=\"SCP_test\",\n",
    "    kymograph=input_img,\n",
    "    kymo_left=input_kymos[0],\n",
    "    kymo_right=input_kymos[1],\n",
    "    kymo_no_static=input_kymos[0] + input_kymos[1],\n",
    ")"
   ]
  },
  {
   "cell_type": "code",
   "execution_count": null,
   "metadata": {},
   "outputs": [],
   "source": [
    "process_kymo(\n",
    "    kymograph, out_folder, speed_config\n",
    ")"
   ]
  },
  {
   "cell_type": "code",
   "execution_count": null,
   "metadata": {},
   "outputs": [],
   "source": [
    "\"\"\"Old code that has been replaced by the process_video function.\n",
    "This code is kept for reference and should not be executed.\"\"\"\n",
    "\n",
    "# graph_data = VideoGraphExtractor(\n",
    "#     Input_video_path, graphExtractConfig(), user_metadata=input_metadata\n",
    "# ).edge_data\n",
    "# kymograph_list = KymographExtractor(\n",
    "#     graph_data, graph_extraction_config\n",
    "# ).processed_kymographs\n",
    "# edge_extraction_fig = GraphVisualizer(\n",
    "#     graph_data, graph_extraction_config\n",
    "# ).plot_extraction()\n",
    "# edge_extraction_fig.savefig(data_output_folder / \"edges_map.png\")\n",
    "\n",
    "# for kymo in kymograph_list:\n",
    "#     kymo_speeds = kymoAnalyser(kymo, speed_config).output_speeds()\n",
    "#     edge_out_folder = data_output_folder / f\"{kymo.name}\"\n",
    "#     edge_out_folder.mkdir(exist_ok=True)\n",
    "#     analyser = kymoAnalyser(kymo, speed_config)\n",
    "#     fig, ax = GSTSpeedVizualizer(kymo_speeds).plot_summary(kymo)\n",
    "#     fig.savefig(edge_out_folder / f\"{input_metadata.position}_{kymo.name}_summary.png\")\n",
    "#     time_series, averages = analyser.return_summary_frames()\n",
    "#     time_series.to_csv(edge_out_folder / f\"{kymo.name}_time_series.csv\")\n",
    "#     averages.to_csv(edge_out_folder / f\"{kymo.name}_averages.csv\")"
   ]
  },
  {
   "cell_type": "code",
   "execution_count": null,
   "metadata": {},
   "outputs": [],
   "source": [
    "\"\"\"Old code that has been replaced by the process_kymo function.\n",
    "This code is kept for reference and should not be executed.\"\"\"\n",
    "\n",
    "# kymo_speeds = kymoAnalyser(kymograph, speed_config).output_speeds()\n",
    "# edge_out_folder = out_folder / f\"{kymograph.name}\"\n",
    "# edge_out_folder.mkdir(exist_ok=True)\n",
    "# analyser = kymoAnalyser(kymograph, speed_config)\n",
    "# fig, ax = GSTSpeedVizualizer(kymo_speeds).plot_summary(kymograph)\n",
    "# fig.savefig(edge_out_folder / f\"{kymograph.name}_summary.png\")\n",
    "# time_series, averages = analyser.return_summary_frames()\n",
    "# time_series.to_csv(edge_out_folder / f\"{kymograph.name}_time_series.csv\")\n",
    "# averages.to_csv(edge_out_folder / f\"{kymograph.name}_averages.csv\")"
   ]
  }
 ],
 "metadata": {
  "kernelspec": {
   "display_name": "flow-analysis-comps-py3.11",
   "language": "python",
   "name": "python3"
  },
  "language_info": {
   "codemirror_mode": {
    "name": "ipython",
    "version": 3
   },
   "file_extension": ".py",
   "mimetype": "text/x-python",
   "name": "python",
   "nbconvert_exporter": "python",
   "pygments_lexer": "ipython3",
   "version": "3.11.12"
  }
 },
 "nbformat": 4,
 "nbformat_minor": 2
}
