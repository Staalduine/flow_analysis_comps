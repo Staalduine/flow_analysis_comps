{
 "cells": [
  {
   "cell_type": "code",
   "execution_count": null,
   "metadata": {},
   "outputs": [],
   "source": [
    "from pathlib import Path\n",
    "import matplotlib as mpl\n",
    "from flow_analysis_comps.data_structs.kymographs import kymoExtractConfig, GSTConfig\n",
    "\n",
    "import matplotlib.pyplot as plt\n",
    "import colorcet  # noqa: F401\n",
    "from flow_analysis_comps.processing.kymographing.kymographer import KymographExtractor\n",
    "from flow_analysis_comps.visualizing.kymographs import kymoVisualizer\n",
    "from flow_analysis_comps.visualizing.GSTSpeeds import GSTSpeedVizualizer\n",
    "from flow_analysis_comps.processing.GSTSpeedExtract.extract_velocity import kymoAnalyser\n",
    "from flow_analysis_comps.data_structs.kymographs import graphExtractConfig\n",
    "from flow_analysis_comps.processing.graph_extraction.graph_extract import VideoGraphExtractor\n",
    "from flow_analysis_comps.visualizing.GraphVisualize import GraphVisualizer\n",
    "\n",
    "plt.close(\"all\")\n",
    "\n",
    "%matplotlib widget\n",
    "\n",
    "%load_ext autoreload\n",
    "%autoreload 2"
   ]
  },
  {
   "cell_type": "code",
   "execution_count": null,
   "metadata": {},
   "outputs": [],
   "source": [
    "video_root_folder = Path(\n",
    "    r\"/Users/simonvanstaalduine/AMOLF-SHIMIZU Dropbox/Simon van Staalduine/034\"\n",
    "    # r\"G:\\AMOLF_Data\\AMOLF-SHIMIZU Dropbox\\Simon van Staalduine\\033\"\n",
    ")\n",
    "graph_data = VideoGraphExtractor(video_root_folder, graphExtractConfig()).edge_data\n",
    "kymograph_list = KymographExtractor(graph_data, kymoExtractConfig()).processed_kymographs\n",
    "speed_obj = kymoAnalyser(kymograph_list[0], GSTConfig()).output_speeds()"
   ]
  },
  {
   "cell_type": "code",
   "execution_count": null,
   "metadata": {},
   "outputs": [],
   "source": [
    "GraphVisualizer(graph_data).plot_extraction()\n",
    "kymoVisualizer(kymograph_list[0]).plot()\n",
    "GSTSpeedVizualizer(speed_obj).show_speed_fields()\n",
    "GSTSpeedVizualizer(speed_obj).plot_summary(kymograph_list[0])"
   ]
  }
 ],
 "metadata": {
  "kernelspec": {
   "display_name": "Python 3",
   "language": "python",
   "name": "python3"
  },
  "language_info": {
   "codemirror_mode": {
    "name": "ipython",
    "version": 3
   },
   "file_extension": ".py",
   "mimetype": "text/x-python",
   "name": "python",
   "nbconvert_exporter": "python",
   "pygments_lexer": "ipython3",
   "version": "3.12.10"
  }
 },
 "nbformat": 4,
 "nbformat_minor": 2
}
