{
 "cells": [
  {
   "cell_type": "code",
   "execution_count": null,
   "metadata": {},
   "outputs": [],
   "source": [
    "from pathlib import Path\n",
    "import matplotlib as mpl\n",
    "from flow_analysis_comps.data_structs.kymographs import kymoExtractConfig, GSTConfig\n",
    "\n",
    "import matplotlib.pyplot as plt\n",
    "import colorcet  # noqa: F401\n",
    "from flow_analysis_comps.processing.kymographing.kymographer import KymographExtractor\n",
    "from flow_analysis_comps.visualizing.kymographs import kymoVisualizer\n",
    "from flow_analysis_comps.visualizing.GSTSpeeds import GSTSpeedVizualizer\n",
    "from flow_analysis_comps.processing.Classic.extract_velocity import kymoAnalyser\n",
    "from flow_analysis_comps.data_structs.kymographs import graphExtractConfig\n",
    "from flow_analysis_comps.processing.graph_extraction.graph_extract import VideoGraphExtractor\n",
    "\n",
    "plt.close(\"all\")\n",
    "\n",
    "%matplotlib widget\n",
    "\n",
    "%load_ext autoreload\n",
    "%autoreload 2"
   ]
  },
  {
   "cell_type": "code",
   "execution_count": null,
   "metadata": {},
   "outputs": [],
   "source": [
    "video_root_folder = Path(\n",
    "    # r\"/Users/simonvanstaalduine/AMOLF-SHIMIZU Dropbox/Simon van Staalduine/034\"\n",
    "    r\"G:\\AMOLF_Data\\AMOLF-SHIMIZU Dropbox\\Simon van Staalduine\\034\"\n",
    ")\n",
    "info_file_address = Path(video_root_folder / \"videoInfo.txt\")\n",
    "graph_data = VideoGraphExtractor(video_root_folder, graphExtractConfig())\n",
    "kymograph_list = KymographExtractor(graph_data.edge_data, kymoExtractConfig()).processed_kymographs\n",
    "speed_obj = kymoAnalyser(kymograph_list[0], GSTConfig()).output_speeds()"
   ]
  },
  {
   "cell_type": "code",
   "execution_count": null,
   "metadata": {},
   "outputs": [],
   "source": [
    "kymoVisualizer(kymograph_list[0]).plot()\n",
    "GSTSpeedVizualizer(speed_obj).show_speed_fields()"
   ]
  },
  {
   "cell_type": "code",
   "execution_count": null,
   "metadata": {},
   "outputs": [],
   "source": [
    "from flow_analysis_comps.data_structs.kymographs import kymoDeltas\n",
    "from flow_analysis_comps.processing.Classic.extract_velocity import kymoAnalyser\n",
    "import numpy as np\n",
    "\n",
    "# video_deltas = videoDeltas(\n",
    "#     delta_t=1,\n",
    "#     delta_x=1\n",
    "# )\n",
    "\n",
    "# OSFilter = orientationSpaceManager(\n",
    "#     0.15,\n",
    "#     freq_width=0.2,\n",
    "#     K=16,\n",
    "#     x_spacing=video_deltas.delta_x,\n",
    "#     y_spacing=video_deltas.delta_t,\n",
    "# )\n",
    "\n",
    "new_order = 8\n",
    "speed_limit = 10\n",
    "\n",
    "for kymo in kymographs:\n",
    "    analyser = kymoAnalyser(\n",
    "        kymo, speed_threshold=speed_limit\n",
    "    )\n",
    "    analyser.plot_kymo_fields()\n",
    "    fig, ax = analyser.plot_summary()\n",
    "    fig.savefig(video_root_folder / f\"{kymo.name}_summary.png\")\n"
   ]
  },
  {
   "cell_type": "code",
   "execution_count": null,
   "metadata": {},
   "outputs": [],
   "source": [
    "fig, ax = plt.subplots()\n",
    "histo_l_n = histo_l / np.max(histo_l)\n",
    "histo_r_n = histo_r / np.max(histo_r)\n",
    "ax.imshow(\n",
    "    (histo_l_n + histo_r_n).T,\n",
    "    cmap=\"cet_CET_L16\",\n",
    "    extent=(0, len(histo_l) * video_deltas.delta_t, -speed_limit, speed_limit),\n",
    "    aspect=\"auto\",\n",
    ")"
   ]
  }
 ],
 "metadata": {
  "kernelspec": {
   "display_name": ".venv",
   "language": "python",
   "name": "python3"
  },
  "language_info": {
   "codemirror_mode": {
    "name": "ipython",
    "version": 3
   },
   "file_extension": ".py",
   "mimetype": "text/x-python",
   "name": "python",
   "nbconvert_exporter": "python",
   "pygments_lexer": "ipython3",
   "version": "3.12.9"
  }
 },
 "nbformat": 4,
 "nbformat_minor": 2
}
