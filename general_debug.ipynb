{
 "cells": [
  {
   "cell_type": "markdown",
   "metadata": {},
   "source": [
    "# This is a scratch space for building functions\n",
    "After functions are made, move them to the corresponding folder. "
   ]
  },
  {
   "cell_type": "code",
   "execution_count": 8,
   "metadata": {},
   "outputs": [],
   "source": [
    "from openpiv import tools, pyprocess, validation, filters, scaling\n",
    "from pathlib import Path\n",
    "import importlib_resources\n",
    "from video_manipulation.segment_skel import segment_brightfield_ultimate\n",
    "import cv2\n",
    "from flow_analysis_comps.PIV.PIV_process import AMF_PIV\n",
    "\n",
    "import matplotlib.pyplot as plt\n",
    "import numpy as np\n",
    "from skimage.io import imread\n",
    "\n",
    "from flow_analysis_comps.PIV.definitions import PIV_params, segmentMode\n",
    "\n",
    "path = importlib_resources.files('openpiv')"
   ]
  },
  {
   "cell_type": "code",
   "execution_count": null,
   "metadata": {},
   "outputs": [],
   "source": [
    "data_adr = Path(r\"/Users/simonvanstaalduine/AMOLF-SHIMIZU Dropbox/Simon van Staalduine\")\n",
    "plate_id = r\"20250122_Plate017\"\n",
    "video_id = r\"031\"\n",
    "frame_id1 = r\"Img/Img_00000.tif\"\n",
    "frame_id2 = r\"Img/Img_00001.tif\"\n",
    "\n",
    "mode = \"BRIGHTFIELD\"\n",
    "# mode = \"FLUO\"\n",
    "\n",
    "frame_a_path = data_adr / video_id / frame_id1\n",
    "frame_b_path = data_adr / video_id / frame_id2\n",
    "\n",
    "frame_a = imread(frame_a_path)\n",
    "frame_b = imread(frame_b_path)\n",
    "\n",
    "fig, axs = plt.subplots(1, 2, figsize=(9, 4))\n",
    "axs[0].imshow(frame_a, cmap=plt.cm.gray)\n",
    "axs[1].imshow(frame_b, cmap=plt.cm.gray)\n",
    "plt.show()\n",
    "\n",
    "fps = 20/1\n",
    "t_dt = 1/fps\n",
    "winsize = 6 # pixels, interrogation window size in frame A\n",
    "searchsize = 8  # pixels, search area size in frame B\n",
    "overlap = 1 # pixels, 50% overlap\n",
    "dt = t_dt # sec, time interval between the two frames\n",
    "\n",
    "STN_thresh = 1.4\n",
    "\n",
    "piv_param_obj = PIV_params(\n",
    "    video_path=data_adr/video_id,\n",
    "    segment_mode=segmentMode.BRIGHT,\n",
    "    fps=fps,\n",
    "    window_size=winsize,\n",
    "    search_size=searchsize,\n",
    "    overlap_size=overlap,\n",
    "    stn_threshold=STN_thresh,\n",
    "    px_per_mm= 1500/2\n",
    ")"
   ]
  },
  {
   "cell_type": "code",
   "execution_count": null,
   "metadata": {},
   "outputs": [],
   "source": [
    "amf_piv_obj = AMF_PIV(piv_param_obj)\n",
    "amf_piv_obj.plot_raw_images((0,1))\n",
    "amf_piv_obj.plot_segmentation()"
   ]
  },
  {
   "cell_type": "code",
   "execution_count": null,
   "metadata": {},
   "outputs": [],
   "source": [
    "amf_piv_obj.piv_process((0, 1), FAKE_OUTLIERS=True)\n",
    "amf_piv_obj.plot_results_color()"
   ]
  }
 ],
 "metadata": {
  "kernelspec": {
   "display_name": "flow-analysis-comps-wxie9OvL-py3.13",
   "language": "python",
   "name": "python3"
  },
  "language_info": {
   "codemirror_mode": {
    "name": "ipython",
    "version": 3
   },
   "file_extension": ".py",
   "mimetype": "text/x-python",
   "name": "python",
   "nbconvert_exporter": "python",
   "pygments_lexer": "ipython3",
   "version": "3.13.1"
  }
 },
 "nbformat": 4,
 "nbformat_minor": 4
}
