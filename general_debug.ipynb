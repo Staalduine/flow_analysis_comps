{
 "cells": [
  {
   "cell_type": "markdown",
   "metadata": {},
   "source": [
    "# This is a scratch space for building functions\n",
    "After functions are made, move them to the corresponding folder. "
   ]
  },
  {
   "cell_type": "code",
   "execution_count": 2,
   "metadata": {},
   "outputs": [],
   "source": [
    "from pathlib import Path\n",
    "from flow_analysis_comps.PIV.PIV_process import AMF_PIV\n",
    "from flow_analysis_comps.PIV.definitions import PIV_params, segmentMode\n",
    "%matplotlib widget"
   ]
  },
  {
   "cell_type": "code",
   "execution_count": 2,
   "metadata": {},
   "outputs": [],
   "source": [
    "data_adr = Path(r\"U:\\test_data\\20250122_Plate017\")\n",
    "plate_id = r\"20250122_Plate017\"\n",
    "video_id = r\"033\"\n",
    "frame_id1 = r\"Img_00000.tif\"\n",
    "frame_id2 = r\"Img_00001.tif\"\n",
    "\n",
    "mode = \"BRIGHTFIELD\"\n",
    "# mode = \"FLUO\"\n",
    "\n",
    "fps = 20\n",
    "winsize = 40 # pixels, interrogation window size in frame A\n",
    "searchsize = 50  # pixels, search area size in frame B\n",
    "overlap = 30 # pixels\n",
    "frame_ids = (0,1)\n",
    "\n",
    "STN_thresh = 1.05\n",
    "\n",
    "piv_param_obj = PIV_params(\n",
    "    video_path=str(data_adr/video_id / \"Img\"),\n",
    "    segment_mode=segmentMode.BRIGHT,\n",
    "    fps=fps,\n",
    "    window_size=winsize,\n",
    "    search_size=searchsize,\n",
    "    overlap_size=overlap,\n",
    "    stn_threshold=STN_thresh,\n",
    "    px_per_mm= 1500/2\n",
    ")"
   ]
  },
  {
   "cell_type": "code",
   "execution_count": null,
   "metadata": {},
   "outputs": [],
   "source": [
    "amf_piv_obj = AMF_PIV(piv_param_obj)\n",
    "amf_piv_obj.plot_raw_images(frame_ids)\n",
    "amf_piv_obj.plot_segmentation()"
   ]
  },
  {
   "cell_type": "code",
   "execution_count": null,
   "metadata": {},
   "outputs": [],
   "source": [
    "# amf_piv_obj.piv_process(frame_ids, FAKE_OUTLIERS=False)\n",
    "amf_piv_obj.piv_process_windef(frame_ids)"
   ]
  },
  {
   "cell_type": "code",
   "execution_count": null,
   "metadata": {},
   "outputs": [],
   "source": [
    "import pandas as pd \n",
    "import numpy as np\n",
    "import matplotlib.pyplot as plt\n",
    "\n",
    "def polar2cart(theta, r):\n",
    "    x = r * np.cos(theta)\n",
    "    y = r * np.sin(theta)\n",
    "    return x,y\n",
    "\n",
    "um_per_px = 0.138\n",
    "fps = 20\n",
    "\n",
    "import_path = Path(r\"U:\\test_data\\20250122_Plate017\\033\\OpenPIV_results_16_PIV_output\\field_A0025.txt\")\n",
    "import_db = pd.read_table(import_path)\n",
    "import_db = import_db[import_db['mask'] == 0]\n",
    "import_db['abs'] = np.sqrt(import_db['u']**2 + import_db['v']**2)\n",
    "import_db['um/s'] = import_db['abs'] * um_per_px * fps\n",
    "import_db['dir'] = np.arctan2(import_db['v'], import_db['u'])\n",
    "import_db['speed_x'], import_db['speed_y'] = import_db['u']* um_per_px * fps, import_db['v']* um_per_px * fps\n",
    "\n",
    "# import_db = import_db[abs(import_db['dir']) - 0.4 < 0]\n",
    "\n",
    "fig, ax = plt.subplot_mosaic([['speed_hist', 'density'],['angle_hist', 'density']], figsize=(8, 4))\n",
    "ax['speed_hist'].hist(import_db['um/s'], bins=50, range=(1, 10))\n",
    "ax['angle_hist'].hist(import_db['dir'], bins=50, range=(-np.pi, np.pi))\n",
    "ax['density'].scatter(import_db['speed_x'], import_db['speed_y'], alpha=.2)\n",
    "ax['density'].grid(True)\n",
    "ax['density'].axhline(0, c='black')\n",
    "ax['density'].axvline(0, c='black')\n",
    "import_db"
   ]
  }
 ],
 "metadata": {
  "kernelspec": {
   "display_name": "flow-analysis-comps-5p0hmMdJ-py3.12",
   "language": "python",
   "name": "python3"
  },
  "language_info": {
   "codemirror_mode": {
    "name": "ipython",
    "version": 3
   },
   "file_extension": ".py",
   "mimetype": "text/x-python",
   "name": "python",
   "nbconvert_exporter": "python",
   "pygments_lexer": "ipython3",
   "version": "3.12.9"
  }
 },
 "nbformat": 4,
 "nbformat_minor": 4
}
