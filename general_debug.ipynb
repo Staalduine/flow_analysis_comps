{
 "cells": [
  {
   "cell_type": "markdown",
   "metadata": {},
   "source": [
    "# This is a scratch space for building functions\n",
    "After functions are made, move them to the corresponding folder. "
   ]
  },
  {
   "cell_type": "code",
   "execution_count": 13,
   "metadata": {},
   "outputs": [],
   "source": [
    "from pathlib import Path\n",
    "from flow_analysis_comps.PIV.PIV_process import AMF_PIV\n",
    "from flow_analysis_comps.PIV.definitions import PIV_params, segmentMode"
   ]
  },
  {
   "cell_type": "code",
   "execution_count": 14,
   "metadata": {},
   "outputs": [],
   "source": [
    "data_adr = Path(r\"/Users/simonvanstaalduine/AMOLF-SHIMIZU Dropbox/Simon van Staalduine\")\n",
    "plate_id = r\"20250122_Plate017\"\n",
    "video_id = r\"032\"\n",
    "frame_id1 = r\"Img/Img_00000.tif\"\n",
    "frame_id2 = r\"Img/Img_00001.tif\"\n",
    "\n",
    "# mode = \"BRIGHTFIELD\"\n",
    "mode = \"FLUO\"\n",
    "\n",
    "fps = 2\n",
    "t_dt = 1/fps\n",
    "winsize = 6 # pixels, interrogation window size in frame A\n",
    "searchsize = 8  # pixels, search area size in frame B\n",
    "overlap = 1 # pixels, 50% overlap\n",
    "dt = t_dt # sec, time interval between the two frames\n",
    "\n",
    "STN_thresh = 1.5\n",
    "\n",
    "piv_param_obj = PIV_params(\n",
    "    video_path=data_adr/video_id,\n",
    "    segment_mode=segmentMode.FLUO,\n",
    "    fps=fps,\n",
    "    window_size=winsize,\n",
    "    search_size=searchsize,\n",
    "    overlap_size=overlap,\n",
    "    stn_threshold=STN_thresh,\n",
    "    px_per_mm= 1500/2\n",
    ")"
   ]
  },
  {
   "cell_type": "code",
   "execution_count": null,
   "metadata": {},
   "outputs": [],
   "source": [
    "amf_piv_obj = AMF_PIV(piv_param_obj)\n",
    "amf_piv_obj.plot_raw_images((0,1))\n",
    "amf_piv_obj.plot_segmentation()"
   ]
  },
  {
   "cell_type": "code",
   "execution_count": null,
   "metadata": {},
   "outputs": [],
   "source": [
    "amf_piv_obj.piv_process((0, 1), FAKE_OUTLIERS=True)\n",
    "amf_piv_obj.plot_results_color()"
   ]
  }
 ],
 "metadata": {
  "kernelspec": {
   "display_name": ".venv",
   "language": "python",
   "name": "python3"
  },
  "language_info": {
   "codemirror_mode": {
    "name": "ipython",
    "version": 3
   },
   "file_extension": ".py",
   "mimetype": "text/x-python",
   "name": "python",
   "nbconvert_exporter": "python",
   "pygments_lexer": "ipython3",
   "version": "3.11.5"
  }
 },
 "nbformat": 4,
 "nbformat_minor": 4
}
