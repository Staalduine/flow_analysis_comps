{
 "cells": [
  {
   "cell_type": "markdown",
   "metadata": {},
   "source": [
    "# This is a scratch space for building functions\n",
    "After functions are made, move them to the corresponding folder. "
   ]
  },
  {
   "cell_type": "code",
   "execution_count": 22,
   "metadata": {},
   "outputs": [],
   "source": [
    "from openpiv import tools, pyprocess, validation, filters, scaling\n",
    "from pathlib import Path\n",
    "import importlib_resources\n",
    "from video_manipulation.segment_skel import segment_brightfield_ultimate\n",
    "import cv2\n",
    "\n",
    "import matplotlib.pyplot as plt\n",
    "import numpy as np\n",
    "from skimage.io import imread\n",
    "\n",
    "path = importlib_resources.files('openpiv')"
   ]
  },
  {
   "cell_type": "code",
   "execution_count": null,
   "metadata": {},
   "outputs": [],
   "source": [
    "frame_a_path = Path(r\"/scratch-shared/amftrack_prod/test_data/20250122_Plate017/034/Img/Img_00000.tif\")\n",
    "frame_b_path = Path(r\"/scratch-shared/amftrack_prod/test_data/20250122_Plate017/034/Img/Img_00001.tif\")\n",
    "\n",
    "frame_a = imread(frame_a_path)\n",
    "frame_b = imread(frame_b_path)\n",
    "\n",
    "fig, axs = plt.subplots(1, 2, figsize=(9, 4))\n",
    "axs[0].imshow(frame_a, cmap=plt.cm.gray)\n",
    "axs[1].imshow(frame_b, cmap=plt.cm.gray)\n",
    "plt.show()\n",
    "\n",
    "fps = 2\n",
    "t_dt = 1/fps\n",
    "winsize = 8 # pixels, interrogation window size in frame A\n",
    "searchsize = 10  # pixels, search area size in frame B\n",
    "overlap = 1 # pixels, 50% overlap\n",
    "dt = t_dt # sec, time interval between the two frames\n"
   ]
  },
  {
   "cell_type": "code",
   "execution_count": null,
   "metadata": {},
   "outputs": [],
   "source": [
    "segmented_im = segment_brightfield_ultimate([frame_a_path, frame_b_path])\n",
    "print(segmented_im)\n",
    "fig, ax = plt.subplots()\n",
    "ax.imshow(segmented_im)"
   ]
  },
  {
   "cell_type": "code",
   "execution_count": null,
   "metadata": {},
   "outputs": [],
   "source": [
    "u0, v0, sig2noise = pyprocess.extended_search_area_piv(\n",
    "    frame_a.astype(np.int32),\n",
    "    frame_b.astype(np.int32),\n",
    "    window_size=winsize,\n",
    "    overlap=overlap,\n",
    "    dt=dt,\n",
    "    search_area_size=searchsize,\n",
    "    sig2noise_method='peak2peak',\n",
    ")\n",
    "x, y = pyprocess.get_coordinates(\n",
    "    image_size=frame_a.shape,\n",
    "    search_area_size=searchsize,\n",
    "    overlap=overlap,\n",
    ")\n",
    "print(x)"
   ]
  },
  {
   "cell_type": "code",
   "execution_count": 26,
   "metadata": {},
   "outputs": [],
   "source": [
    "STN_thresh = 1.4\n",
    "\n",
    "invalid_mask = validation.sig2noise_val(\n",
    "    sig2noise,\n",
    "    threshold = STN_thresh,\n",
    ")\n",
    "destined_shape = invalid_mask.shape\n",
    "\n",
    "segmented_im = cv2.resize(segmented_im, destined_shape[::-1])\n",
    "segmented_im = np.where(segmented_im > 1, True, False)\n",
    "\n",
    "# invalid_mask  = ~(invalid_mask * segmented_im)\n",
    "\n",
    "u2, v2 = filters.replace_outliers(\n",
    "    u0, v0,\n",
    "    invalid_mask,\n",
    "    method='localmean',\n",
    "    max_iter=3,\n",
    "    kernel_size=3,\n",
    ")\n",
    "# convert x,y to mm\n",
    "# convert u,v to mm/sec\n",
    "\n",
    "x, y, u3, v3 = scaling.uniform(\n",
    "    x, y, u2, v2,\n",
    "    scaling_factor = 1501/2,  # 96.52 pixels/millimeter\n",
    ")\n",
    "\n",
    "# 0,0 shall be bottom left, positive rotation rate is counterclockwise\n",
    "x, y, u3, v3 = tools.transform_coordinates(x, y, u3, v3)\n",
    "tools.save('exp1_001.txt' , x, y, u3, v3, invalid_mask)\n"
   ]
  },
  {
   "cell_type": "code",
   "execution_count": null,
   "metadata": {},
   "outputs": [],
   "source": [
    "from matplotlib.colors import hsv_to_rgb\n",
    "hue = np.arctan2(v3, u3) / (2*np.pi) + 0.5\n",
    "\n",
    "val = np.linalg.norm([v3, u3], axis=0)\n",
    "val /= np.nanmax(val)\n",
    "sat = np.ones_like(val)\n",
    "\n",
    "hsv_im = np.array([hue, sat, val])\n",
    "hsv_im = np.moveaxis(hsv_im, 0, -1)\n",
    "rgb_im = hsv_to_rgb(hsv_im)\n",
    "\n",
    "fig, ax = plt.subplots(figsize=(10,10))\n",
    "ax.imshow(rgb_im)"
   ]
  },
  {
   "cell_type": "code",
   "execution_count": null,
   "metadata": {},
   "outputs": [],
   "source": [
    "fig, ax = plt.subplots(figsize=(20,20))\n",
    "tools.display_vector_field(\n",
    "    Path('exp1_001.txt'),\n",
    "    ax=ax, scaling_factor=1501/2,\n",
    "    scale=4, # scale defines here the arrow length\n",
    "    width=0.0015, # width is the thickness of the arrow\n",
    "    on_img=True, # overlay on the image\n",
    "    image_name= \"/scratch-shared/amftrack_prod/test_data/20250122_Plate017/033/Img/Img_00000.tif\",\n",
    ");"
   ]
  }
 ],
 "metadata": {
  "kernelspec": {
   "display_name": ".venv",
   "language": "python",
   "name": "python3"
  },
  "language_info": {
   "codemirror_mode": {
    "name": "ipython",
    "version": 3
   },
   "file_extension": ".py",
   "mimetype": "text/x-python",
   "name": "python",
   "nbconvert_exporter": "python",
   "pygments_lexer": "ipython3",
   "version": "3.11.7"
  }
 },
 "nbformat": 4,
 "nbformat_minor": 2
}
