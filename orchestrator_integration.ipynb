{
 "cells": [
  {
   "cell_type": "code",
   "execution_count": null,
   "id": "192a9604",
   "metadata": {},
   "outputs": [],
   "source": [
    "from flow_analysis_comps.scripts.classic_flow_extraction import process\n",
    "\n",
    "input_frame = {\n",
    "    \"total_path\" : '/Users/simonvanstaalduine/AMOLF-SHIMIZU Dropbox/Simon van Staalduine/035',\n",
    "}\n",
    "input_args = [\n",
    "    10 # Speed limit\n",
    "]"
   ]
  },
  {
   "cell_type": "code",
   "execution_count": null,
   "id": "8e3dc3b9",
   "metadata": {},
   "outputs": [],
   "source": [
    "process(input_frame, input_args)"
   ]
  }
 ],
 "metadata": {
  "kernelspec": {
   "display_name": ".venv",
   "language": "python",
   "name": "python3"
  },
  "language_info": {
   "codemirror_mode": {
    "name": "ipython",
    "version": 3
   },
   "file_extension": ".py",
   "mimetype": "text/x-python",
   "name": "python",
   "nbconvert_exporter": "python",
   "pygments_lexer": "ipython3",
   "version": "3.12.10"
  }
 },
 "nbformat": 4,
 "nbformat_minor": 5
}
