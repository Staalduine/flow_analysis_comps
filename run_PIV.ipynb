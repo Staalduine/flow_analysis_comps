{
 "cells": [
  {
   "cell_type": "markdown",
   "metadata": {},
   "source": [
    "# This is a scratch space for building functions\n",
    "After functions are made, move them to the corresponding folder. \n",
    "\n",
    "First we import the necessary objects:"
   ]
  },
  {
   "cell_type": "code",
   "execution_count": null,
   "metadata": {},
   "outputs": [],
   "source": [
    "from pathlib import Path\n",
    "from flow_analysis_comps.PIV.PIV_process import AMF_PIV\n",
    "from flow_analysis_comps.PIV.definitions import PIV_params\n",
    "from flow_analysis_comps.PIV.PIV_visualize import visualizerParams\n",
    "import matplotlib.pyplot as plt\n",
    "import numpy as np\n",
    "\n",
    "%matplotlib widget\n",
    "%load_ext autoreload\n",
    "%autoreload 2"
   ]
  },
  {
   "cell_type": "markdown",
   "metadata": {},
   "source": [
    "## Video import and general settings\n",
    "Videos are assumed to have the following structure:\n",
    "\n",
    "```\n",
    "videoFolder\n",
    "|--videoInfo.txt / metadata.json\n",
    "|--Img\n",
    "    |--Img_****.tif\n",
    "```\n",
    "\n",
    "Such that the metadata is not in the same folder as the TIF files. "
   ]
  },
  {
   "cell_type": "code",
   "execution_count": null,
   "metadata": {},
   "outputs": [],
   "source": [
    "data_adr = Path(\n",
    "    r\"C:\\Users\\vstaalduine\\AMOLF-SHIMIZU Dropbox\\Simon van Staalduine\\035\"\n",
    ")\n",
    "\n",
    "winsize = 64  # pixels, interrogation window size in frame A\n",
    "nr_of_passes = 3\n",
    "STN_thresh = 0.001\n",
    "video_path = str(data_adr / \"Img\")\n",
    "\n",
    "\n",
    "piv_param_obj = PIV_params(\n",
    "    root_path=data_adr,\n",
    "    segment_mode=\"brightfield\",\n",
    "    window_size_start=winsize,\n",
    "    number_of_passes=nr_of_passes,\n",
    "    stn_threshold=STN_thresh,\n",
    "    max_speed_px_per_frame=100.0,\n",
    ")\n",
    "\n",
    "PIV_process = AMF_PIV(piv_param_obj)\n"
   ]
  },
  {
   "cell_type": "code",
   "execution_count": null,
   "metadata": {},
   "outputs": [],
   "source": [
    "PIV_process.plot_raw_images((0, 1))"
   ]
  },
  {
   "cell_type": "code",
   "execution_count": null,
   "metadata": {},
   "outputs": [],
   "source": [
    "PIV_process.run_single_frame((15, 16))"
   ]
  },
  {
   "cell_type": "code",
   "execution_count": null,
   "metadata": {},
   "outputs": [],
   "source": [
    "PIV_process.run_full_video()"
   ]
  },
  {
   "cell_type": "code",
   "execution_count": null,
   "metadata": {},
   "outputs": [],
   "source": [
    "PIV_process.start_visualizer(\n",
    "    data_adr / \"OpenPIV_results_16_PIV_output\", limit_data=False\n",
    ")"
   ]
  },
  {
   "cell_type": "code",
   "execution_count": null,
   "metadata": {},
   "outputs": [],
   "source": [
    "mean_orientation = PIV_process.visualizer.get_mean_generic(\n",
    "    \"speed_dir\", IS_MEAN_CIRCULAR=True\n",
    ")\n",
    "mean_speed = PIV_process.visualizer.get_mean_generic(\"abs\")\n",
    "\n",
    "mean_orientation = (mean_orientation + np.pi) % (2 * np.pi)"
   ]
  },
  {
   "cell_type": "code",
   "execution_count": null,
   "metadata": {},
   "outputs": [],
   "source": [
    "import colorcet as cc\n",
    "from matplotlib.colors import rgb_to_hsv, hsv_to_rgb\n",
    "\n",
    "norm = plt.Normalize(vmin=0, vmax=2*np.pi)\n",
    "cmap = cc.cm.CET_C7\n",
    "\n",
    "rgb_image = cmap(norm(mean_orientation))[:,:,:3]\n",
    "hsv_image = rgb_to_hsv(rgb_image)\n",
    "hsv_image[:,:,2]  *= (mean_speed / mean_speed.max())\n",
    "# rgb_image = hsv_to_rgb(hsv_image)\n",
    "\n",
    "fig, ax = plt.subplots(1, 2)\n",
    "ax[0].imshow(\n",
    "    rgb_image,\n",
    "    origin=\"lower\",\n",
    "    extent=[\n",
    "        0,\n",
    "        PIV_process.visualizer.current_frame_data[\"x\"].max(),\n",
    "        0,\n",
    "        PIV_process.visualizer.current_frame_data[\"y\"].max(),\n",
    "    ],\n",
    ")\n",
    "ax[0].set_title(\"Orientation\")\n",
    "ax[1].imshow(\n",
    "    mean_speed,\n",
    "    origin=\"lower\",\n",
    "    vmin=0,\n",
    "    cmap=\"cet_CET_L16\",\n",
    "    extent=[\n",
    "        0,\n",
    "        PIV_process.visualizer.current_frame_data[\"x\"].max(),\n",
    "        0,\n",
    "        PIV_process.visualizer.current_frame_data[\"y\"].max(),\n",
    "    ],\n",
    ")\n",
    "ax[1].set_title(\"Speed magnitude\")"
   ]
  },
  {
   "cell_type": "code",
   "execution_count": null,
   "metadata": {},
   "outputs": [],
   "source": [
    "PIV_process.visualizer.set_image_index(377\n",
    "                                       )\n",
    "fig = PIV_process.visualizer.plot_full_figure(dpi=70)"
   ]
  },
  {
   "cell_type": "code",
   "execution_count": null,
   "metadata": {},
   "outputs": [],
   "source": [
    "# PIV_process.visualizer.set_image_index(450)\n",
    "dist_thresh = 30\n",
    "\n",
    "result, result2 = PIV_process.visualizer.speed_against_point_distance((64, 68))\n",
    "dist_r = PIV_process.visualizer.interpolate_from_dataframe(result)\n",
    "\n",
    "fig1, ax1 = plt.subplots()\n",
    "ax1.imshow(dist_r < dist_thresh, origin=\"lower\",     extent=[\n",
    "        0,\n",
    "        PIV_process.visualizer.current_frame_data[\"x\"].max(),\n",
    "        0,\n",
    "        PIV_process.visualizer.current_frame_data[\"y\"].max(),\n",
    "    ],)\n",
    "\n",
    "fig, ax = plt.subplots()\n",
    "ax.scatter(result, result2, c=PIV_process.visualizer.current_frame_data[\"speed_dir\"], cmap=cc.cm.CET_C7)\n",
    "ax.set_xlim(0, dist_thresh)\n"
   ]
  },
  {
   "cell_type": "code",
   "execution_count": null,
   "metadata": {},
   "outputs": [],
   "source": [
    "PIV_process.visualizer.show_mean_quiver_plot(scale=10)"
   ]
  }
 ],
 "metadata": {
  "kernelspec": {
   "display_name": "flow-analysis-comps-Qa29NZEP-py3.12",
   "language": "python",
   "name": "python3"
  },
  "language_info": {
   "codemirror_mode": {
    "name": "ipython",
    "version": 3
   },
   "file_extension": ".py",
   "mimetype": "text/x-python",
   "name": "python",
   "nbconvert_exporter": "python",
   "pygments_lexer": "ipython3",
   "version": "3.12.9"
  }
 },
 "nbformat": 4,
 "nbformat_minor": 4
}
