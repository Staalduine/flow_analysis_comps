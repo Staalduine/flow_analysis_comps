{
 "cells": [
  {
   "cell_type": "markdown",
   "metadata": {},
   "source": [
    "# This is a scratch space for building functions\n",
    "After functions are made, move them to the corresponding folder. \n",
    "\n",
    "First we import the necessary objects:"
   ]
  },
  {
   "cell_type": "code",
   "execution_count": null,
   "metadata": {},
   "outputs": [],
   "source": [
    "from pathlib import Path\n",
    "from flow_analysis_comps.PIV.PIV_process import AMF_PIV\n",
    "from flow_analysis_comps.PIV.definitions import PIV_params\n",
    "from flow_analysis_comps.PIV.PIV_visualize import visualizerParams\n",
    "import matplotlib.pyplot as plt\n",
    "\n",
    "%matplotlib widget\n",
    "%load_ext autoreload\n",
    "%autoreload 2"
   ]
  },
  {
   "cell_type": "markdown",
   "metadata": {},
   "source": [
    "## Video import and general settings\n",
    "Videos are assumed to have the following structure:\n",
    "\n",
    "```\n",
    "videoFolder\n",
    "|--videoInfo.txt / metadata.json\n",
    "|--Img\n",
    "    |--Img_****.tif\n",
    "```\n",
    "\n",
    "Such that the metadata is not in the same folder as the TIF files. "
   ]
  },
  {
   "cell_type": "code",
   "execution_count": null,
   "metadata": {},
   "outputs": [],
   "source": [
    "data_adr = Path(r'/Users/simonvanstaalduine/AMOLF-SHIMIZU Dropbox/Simon van Staalduine/001 (1)')\n",
    "# plate_id = r\"20250122_Plate017\"\n",
    "# video_id = r\"vortex_stable\"\n",
    "# frame_id1 = r\"Img_0000.tif\"\n",
    "# frame_id2 = r\"Img_0001.tif\"\n",
    "# tif_folder_name = \"Img\"\n",
    "\n",
    "winsize = 64  # pixels, interrogation window size in frame A\n",
    "nr_of_passes = 3\n",
    "# frame_ids = (0, 1)\n",
    "STN_thresh = .5\n",
    "video_path=str(data_adr / \"Img\")\n",
    "\n",
    "\n",
    "piv_param_obj = PIV_params(\n",
    "    root_path=data_adr,\n",
    "    segment_mode=\"brightfield\",\n",
    "    window_size_start=winsize,\n",
    "    number_of_passes=nr_of_passes,\n",
    "    stn_threshold=STN_thresh,\n",
    "    max_speed_px_per_frame=5.0\n",
    ")\n",
    "\n",
    "# params = visualizerParams(use_mask=False, use_flags=True)\n",
    "PIV_process = AMF_PIV(piv_param_obj)\n"
   ]
  },
  {
   "cell_type": "code",
   "execution_count": null,
   "metadata": {},
   "outputs": [],
   "source": [
    "PIV_process.plot_raw_images((0, 1))"
   ]
  },
  {
   "cell_type": "code",
   "execution_count": null,
   "metadata": {},
   "outputs": [],
   "source": [
    "PIV_process.run_single_frame()"
   ]
  },
  {
   "cell_type": "code",
   "execution_count": null,
   "metadata": {},
   "outputs": [],
   "source": [
    "PIV_process.run_full_video()"
   ]
  },
  {
   "cell_type": "code",
   "execution_count": null,
   "metadata": {},
   "outputs": [],
   "source": [
    "PIV_process.start_visualizer(data_adr  / \"OpenPIV_results_16_PIV_output\")"
   ]
  },
  {
   "cell_type": "code",
   "execution_count": null,
   "metadata": {},
   "outputs": [],
   "source": [
    "PIV_process.visualizer.get_mean_orient()"
   ]
  },
  {
   "cell_type": "code",
   "execution_count": null,
   "metadata": {},
   "outputs": [],
   "source": [
    "PIV_process.visualizer.plot_grid_interp_frame_data(data_shown=\"speed_dir\", pull_from_mean_data=True)"
   ]
  },
  {
   "cell_type": "code",
   "execution_count": null,
   "metadata": {},
   "outputs": [],
   "source": [
    "for i in range(2000):\n",
    "    PIV_process.visualizer.set_image_index(i)\n",
    "    fig = PIV_process.visualizer.plot_full_figure(dpi=300)\n",
    "    fig.savefig(rf\"U:\\test_data\\20250122_Plate017\\043\\combine_movie\\frame_{i:04}\" )\n",
    "    fig.clear()\n",
    "    plt.close(fig)\n"
   ]
  },
  {
   "cell_type": "code",
   "execution_count": null,
   "metadata": {},
   "outputs": [],
   "source": [
    "PIV_process.visualizer.show_current_frame()"
   ]
  },
  {
   "cell_type": "code",
   "execution_count": null,
   "metadata": {},
   "outputs": [],
   "source": [
    "from flow_analysis_comps.util.video_io import tif_folder_to_mp4\n",
    "video_folder = Path(r\"U:\\test_data\\20250122_Plate017\\043\\combine_movie\")\n",
    "\n",
    "tif_folder_to_mp4(video_folder, video_folder.parent / \"PIV_Movie.mp4\", suffix=\".png\")"
   ]
  },
  {
   "cell_type": "code",
   "execution_count": null,
   "metadata": {},
   "outputs": [],
   "source": [
    "data_adr = Path(r\"G:\\AMOLF_Data\\AMOLF-SHIMIZU Dropbox\\Simon van Staalduine\")\n",
    "plate_id = r\"20250122_Plate017\"\n",
    "video_id = r\"vortex_stable\"\n",
    "frame_id1 = r\"Img_0000.tif\"\n",
    "frame_id2 = r\"Img_0001.tif\"\n",
    "tif_folder_name = \"Img\"\n",
    "# filter_mode = \"aharm_thresh\"\n",
    "\n",
    "raw_img_adr = data_adr / video_id / \"Img\"\n",
    "\n",
    "fps = 1\n",
    "winsize = 10  # pixels, interrogation window size in frame A\n",
    "searchsize = 12  # pixels, search area size in frame B\n",
    "overlap = 4  # pixels\n",
    "frame_ids = (0, 1)\n",
    "\n",
    "STN_thresh = 0.08\n",
    "\n"
   ]
  },
  {
   "cell_type": "code",
   "execution_count": null,
   "metadata": {},
   "outputs": [],
   "source": [
    "amf_piv_obj = AMF_PIV(piv_param_obj)\n",
    "amf_piv_obj.plot_raw_images(frame_ids)\n",
    "amf_piv_obj.plot_segmentation()\n"
   ]
  },
  {
   "cell_type": "code",
   "execution_count": null,
   "metadata": {},
   "outputs": [],
   "source": [
    "# amf_piv_obj.piv_process(frame_ids, FAKE_OUTLIERS=False)\n",
    "amf_piv_obj.run_full_video(frame_ids)"
   ]
  },
  {
   "cell_type": "code",
   "execution_count": null,
   "metadata": {},
   "outputs": [],
   "source": [
    "import pandas as pd\n",
    "import numpy as np\n",
    "import matplotlib.pyplot as plt\n",
    "\n",
    "\n",
    "def read_and_filter_piv(um_per_px, fps, import_path):\n",
    "    import_db = pd.read_table(import_path)\n",
    "    import_db = import_db[import_db[\"mask\"] == 0]\n",
    "    import_db = import_db[import_db[\"flags\"] == 0]\n",
    "    import_db[\"abs\"] = np.sqrt(import_db[\"u\"] ** 2 + import_db[\"v\"] ** 2)\n",
    "    import_db[\"um/s\"] = import_db[\"abs\"] * um_per_px * fps\n",
    "    import_db[\"dir\"] = np.arctan2(import_db[\"v\"], import_db[\"u\"])\n",
    "    import_db[\"speed_x\"], import_db[\"speed_y\"] = (\n",
    "        import_db[\"u\"] * um_per_px * fps,\n",
    "        import_db[\"v\"] * um_per_px * fps,\n",
    "    )\n",
    "    # import_db = import_db[abs(import_db[\"abs\"]) - 0.8 > 0]\n",
    "    return import_db\n",
    "\n",
    "\n",
    "def polar2cart(theta, r):\n",
    "    x = r * np.cos(theta)\n",
    "    y = r * np.sin(theta)\n",
    "    return x, y\n",
    "\n",
    "\n",
    "um_per_px = 0.138\n",
    "fps = 20\n",
    "time_point = \"0027\""
   ]
  },
  {
   "cell_type": "code",
   "execution_count": null,
   "metadata": {},
   "outputs": [],
   "source": [
    "def save_piv_quiver(time_point):\n",
    "    import_path = Path(\n",
    "        rf\"U:\\test_data\\20250122_Plate017\\043\\OpenPIV_results_8_PIV_output\\field_A{time_point}.txt\"\n",
    "    )\n",
    "    import_db = read_and_filter_piv(um_per_px, fps, import_path)\n",
    "    fig, ax = plt.subplots(figsize=(5, 7), dpi=200)\n",
    "    ax.quiver(\n",
    "        import_db[\"# x\"], import_db[\"y\"], import_db[\"u\"], import_db[\"v\"], scale=300\n",
    "    )\n",
    "    ax.set_aspect(\"equal\")\n",
    "    fig.savefig(rf\"U:\\test_data\\20250122_Plate017\\043\\quiver_movie\\{time_point}\")\n",
    "    fig.clear()\n",
    "\n",
    "\n",
    "for i in range(2000):\n",
    "    time_str = f\"{i:04}\"\n",
    "    save_piv_quiver(time_str)"
   ]
  },
  {
   "cell_type": "code",
   "execution_count": null,
   "metadata": {},
   "outputs": [],
   "source": [
    "fig, ax = plt.subplot_mosaic(\n",
    "    [[\"speed_hist\", \"density\"], [\"angle_hist\", \"density\"]], figsize=(8, 4)\n",
    ")\n",
    "ax[\"speed_hist\"].hist(import_db[\"um/s\"], bins=50, range=(1, 10))\n",
    "ax[\"angle_hist\"].hist(import_db[\"dir\"], bins=50, range=(-np.pi, np.pi))\n",
    "ax[\"density\"].scatter(import_db[\"speed_x\"], import_db[\"speed_y\"], alpha=0.03)\n",
    "ax[\"density\"].grid(True)\n",
    "ax[\"density\"].axhline(0, c=\"black\")\n",
    "ax[\"density\"].axvline(0, c=\"black\")\n",
    "import_db"
   ]
  }
 ],
 "metadata": {
  "kernelspec": {
   "display_name": "flow-analysis-comps-wxie9OvL-py3.13",
   "language": "python",
   "name": "python3"
  },
  "language_info": {
   "codemirror_mode": {
    "name": "ipython",
    "version": 3
   },
   "file_extension": ".py",
   "mimetype": "text/x-python",
   "name": "python",
   "nbconvert_exporter": "python",
   "pygments_lexer": "ipython3",
   "version": "3.13.1"
  }
 },
 "nbformat": 4,
 "nbformat_minor": 4
}
