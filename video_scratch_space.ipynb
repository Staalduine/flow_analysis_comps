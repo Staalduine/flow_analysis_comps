{
 "cells": [
  {
   "cell_type": "code",
   "execution_count": null,
   "metadata": {},
   "outputs": [],
   "source": [
    "from pathlib import Path\n",
    "import matplotlib as mpl\n",
    "\n",
    "import matplotlib.pyplot as plt\n",
    "from flow_analysis_comps.Fourier.OrientationSpaceManager import orientationSpaceManager\n",
    "from util.video_io import read_video_metadata, load_tif_series_to_dask\n",
    "import colorcet  # noqa: F401\n",
    "from video_manipulation.control_class import videoControl\n",
    "mpl.rcParams.update(mpl.rcParamsDefault)\n",
    "\n",
    "# plt.rcParams[\"text.usetex\"] = True\n",
    "plt.close('all')\n",
    "\n",
    "%matplotlib widget\n",
    "\n",
    "%load_ext autoreload\n",
    "%autoreload 2"
   ]
  },
  {
   "cell_type": "code",
   "execution_count": null,
   "metadata": {},
   "outputs": [],
   "source": [
    "data_adr = Path(\n",
    "    r\"G:\\AMOLF_Data\\AMOLF-SHIMIZU Dropbox\\Simon van Staalduine\"\n",
    ")  # Personal PC path\n",
    "data_adr = Path(\n",
    "    r\"/Users/simonvanstaalduine/AMOLF-SHIMIZU Dropbox/Simon van Staalduine\"\n",
    ")  # Personal mac path\n",
    "data_adr = Path(r\"U:\\test_data\\20250122_Plate017\")\n",
    "\n",
    "plate_id = r\"20250122_Plate017\"\n",
    "video_id = r\"010\"\n",
    "\n",
    "total_path = data_adr / video_id / \"Img\"\n",
    "info_path = total_path.parent / \"videoInfo.txt\"\n",
    "# info_path = total_path / \"videoInfo.json\"\n",
    "\n",
    "video_info = read_video_metadata(info_path)\n",
    "array = load_tif_series_to_dask(total_path)  # Dims are z, y, x\n",
    "video_control_obj = videoControl(total_path, info_path)"
   ]
  },
  {
   "cell_type": "code",
   "execution_count": null,
   "metadata": {},
   "outputs": [],
   "source": [
    "video_control_obj.plot_edge_extraction()"
   ]
  },
  {
   "cell_type": "code",
   "execution_count": null,
   "metadata": {},
   "outputs": [],
   "source": [
    "images = video_control_obj.save_edge_videos(info_path.parent)"
   ]
  },
  {
   "cell_type": "code",
   "execution_count": null,
   "metadata": {},
   "outputs": [],
   "source": [
    "fig, ax = plt.subplots()\n",
    "ax.imshow(images['(32, 164)'][50])"
   ]
  },
  {
   "cell_type": "code",
   "execution_count": null,
   "metadata": {},
   "outputs": [],
   "source": [
    "line_height = 760\n",
    "# Cutting out an image with (z,x) axes\n",
    "img = array[:, line_height, 1000:1750].compute()\n",
    "\n",
    "fig, ax = plt.subplots(1, 2, figsize=(9, 4))\n",
    "ax[0].imshow(array[0, :, :], cmap=\"cet_CET_L20\")\n",
    "ax[0].axhline(line_height)\n",
    "\n",
    "ax[1].imshow(img, cmap=\"cet_CET_L20\")\n",
    "ax[1].set_aspect(\"equal\")\n",
    "fig.tight_layout()"
   ]
  },
  {
   "cell_type": "code",
   "execution_count": null,
   "metadata": {},
   "outputs": [],
   "source": [
    "OSFilter = orientationSpaceManager(0.15, K=12)\n",
    "img_fft = OSFilter.get_response(img)"
   ]
  },
  {
   "cell_type": "code",
   "execution_count": null,
   "metadata": {},
   "outputs": [],
   "source": [
    "order = 12\n",
    "\n",
    "OSFilter.demo_image(img, order=order, thresh_method=\"otsu\")"
   ]
  },
  {
   "cell_type": "code",
   "execution_count": null,
   "metadata": {},
   "outputs": [],
   "source": [
    "point = (384, 80)\n",
    "\n",
    "fig = OSFilter.response.plot_mean_response()\n",
    "thres = OSFilter.response.nlms_mask(fill_holes=True, thresh_method=\"otsu\")\n",
    "OSFilter.response.plot_lineof_point(point)\n",
    "OSFilter.response.visualize_point_response(point)\n",
    "\n",
    "fig, ax = plt.subplots()\n",
    "ax.imshow(thres)"
   ]
  }
 ],
 "metadata": {
  "kernelspec": {
   "display_name": ".venv",
   "language": "python",
   "name": "python3"
  },
  "language_info": {
   "codemirror_mode": {
    "name": "ipython",
    "version": 3
   },
   "file_extension": ".py",
   "mimetype": "text/x-python",
   "name": "python",
   "nbconvert_exporter": "python",
   "pygments_lexer": "ipython3",
   "version": "3.12.9"
  }
 },
 "nbformat": 4,
 "nbformat_minor": 2
}
