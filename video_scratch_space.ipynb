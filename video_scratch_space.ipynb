{
 "cells": [
  {
   "cell_type": "code",
   "execution_count": 1,
   "metadata": {},
   "outputs": [],
   "source": [
    "from pathlib import Path\n",
    "from util.coord_transforms import freqSpaceCoords\n",
    "\n",
    "import os\n",
    "import numpy as np\n",
    "import matplotlib.pyplot as plt\n",
    "from flow_analysis_comps.Fourier.OrientationSpaceManager import orientationSpaceManager\n",
    "import dask.array as da\n",
    "from dask import delayed\n",
    "import tifffile\n",
    "import flow_analysis_comps.Fourier.OrientationSpaceFilter as OSFilter\n",
    "import colorcet  # noqa: F401\n",
    "from util.video_io import read_video_info_txt\n",
    "%matplotlib widget\n",
    "\n",
    "%load_ext autoreload\n",
    "%autoreload 2"
   ]
  },
  {
   "cell_type": "code",
   "execution_count": 52,
   "metadata": {},
   "outputs": [
    {
     "ename": "ValidationError",
     "evalue": "8 validation errors for videoInfo\nstorage_path\n  Field required [type=missing, input_value={'plate_info': plateInfo(...2025, 1, 22, 15, 45, 5)}, input_type=dict]\n    For further information visit https://errors.pydantic.dev/2.10/v/missing\nrun_nr\n  Field required [type=missing, input_value={'plate_info': plateInfo(...2025, 1, 22, 15, 45, 5)}, input_type=dict]\n    For further information visit https://errors.pydantic.dev/2.10/v/missing\nduration\n  Field required [type=missing, input_value={'plate_info': plateInfo(...2025, 1, 22, 15, 45, 5)}, input_type=dict]\n    For further information visit https://errors.pydantic.dev/2.10/v/missing\nframe_nr\n  Field required [type=missing, input_value={'plate_info': plateInfo(...2025, 1, 22, 15, 45, 5)}, input_type=dict]\n    For further information visit https://errors.pydantic.dev/2.10/v/missing\nmode\n  Field required [type=missing, input_value={'plate_info': plateInfo(...2025, 1, 22, 15, 45, 5)}, input_type=dict]\n    For further information visit https://errors.pydantic.dev/2.10/v/missing\nmagnification\n  Field required [type=missing, input_value={'plate_info': plateInfo(...2025, 1, 22, 15, 45, 5)}, input_type=dict]\n    For further information visit https://errors.pydantic.dev/2.10/v/missing\ncamera_settings\n  Field required [type=missing, input_value={'plate_info': plateInfo(...2025, 1, 22, 15, 45, 5)}, input_type=dict]\n    For further information visit https://errors.pydantic.dev/2.10/v/missing\nposition\n  Field required [type=missing, input_value={'plate_info': plateInfo(...2025, 1, 22, 15, 45, 5)}, input_type=dict]\n    For further information visit https://errors.pydantic.dev/2.10/v/missing",
     "output_type": "error",
     "traceback": [
      "\u001b[1;31m---------------------------------------------------------------------------\u001b[0m",
      "\u001b[1;31mValidationError\u001b[0m                           Traceback (most recent call last)",
      "Cell \u001b[1;32mIn[52], line 12\u001b[0m\n\u001b[0;32m      9\u001b[0m total_path \u001b[38;5;241m=\u001b[39m data_adr \u001b[38;5;241m/\u001b[39m video_id \u001b[38;5;241m/\u001b[39m \u001b[38;5;124m\"\u001b[39m\u001b[38;5;124mImg\u001b[39m\u001b[38;5;124m\"\u001b[39m\n\u001b[0;32m     10\u001b[0m info_path \u001b[38;5;241m=\u001b[39m total_path\u001b[38;5;241m.\u001b[39mparent \u001b[38;5;241m/\u001b[39m \u001b[38;5;124m\"\u001b[39m\u001b[38;5;124mvideoInfo.txt\u001b[39m\u001b[38;5;124m\"\u001b[39m\n\u001b[1;32m---> 12\u001b[0m video_info_pd \u001b[38;5;241m=\u001b[39m \u001b[43mread_video_info_txt\u001b[49m\u001b[43m(\u001b[49m\u001b[43minfo_path\u001b[49m\u001b[43m)\u001b[49m\n\u001b[0;32m     13\u001b[0m \u001b[38;5;28mprint\u001b[39m(total_path)\n\u001b[0;32m     14\u001b[0m video_info_pd\n",
      "File \u001b[1;32mf:\\AMOLF_PhD_repos\\flow_analysis_comps\\util\\video_io.py:37\u001b[0m, in \u001b[0;36mread_video_info_txt\u001b[1;34m(address)\u001b[0m\n\u001b[0;32m     27\u001b[0m crossing_date \u001b[38;5;241m=\u001b[39m date\u001b[38;5;241m.\u001b[39mfromisoformat(raw_data[\u001b[38;5;124m\"\u001b[39m\u001b[38;5;124mCrossDate\u001b[39m\u001b[38;5;124m\"\u001b[39m]\u001b[38;5;241m.\u001b[39mstrip())\n\u001b[0;32m     29\u001b[0m plate_info_obj \u001b[38;5;241m=\u001b[39m plateInfo(\n\u001b[0;32m     30\u001b[0m     plate_nr\u001b[38;5;241m=\u001b[39mraw_data[\u001b[38;5;124m\"\u001b[39m\u001b[38;5;124mPlate\u001b[39m\u001b[38;5;124m\"\u001b[39m],\n\u001b[0;32m     31\u001b[0m     root\u001b[38;5;241m=\u001b[39mraw_data[\u001b[38;5;124m\"\u001b[39m\u001b[38;5;124mRoot\u001b[39m\u001b[38;5;124m\"\u001b[39m]\u001b[38;5;241m.\u001b[39mstrip(),\n\u001b[1;32m   (...)\u001b[0m\n\u001b[0;32m     34\u001b[0m     crossing_date\u001b[38;5;241m=\u001b[39mcrossing_date,\n\u001b[0;32m     35\u001b[0m )\n\u001b[1;32m---> 37\u001b[0m info_obj \u001b[38;5;241m=\u001b[39m \u001b[43mvideoInfo\u001b[49m\u001b[43m(\u001b[49m\u001b[43mplate_info\u001b[49m\u001b[38;5;241;43m=\u001b[39;49m\u001b[43mplate_info_obj\u001b[49m\u001b[43m,\u001b[49m\u001b[43m \u001b[49m\u001b[43mdatetime\u001b[49m\u001b[38;5;241;43m=\u001b[39;49m\u001b[43mtime_obj\u001b[49m\u001b[43m)\u001b[49m\n\u001b[0;32m     38\u001b[0m \u001b[38;5;28;01mreturn\u001b[39;00m raw_data\n",
      "File \u001b[1;32mf:\\AMOLF_PHD_REPOS\\FLOW_ANALYSIS_COMPS\\.VENV\\Lib\\site-packages\\pydantic\\main.py:214\u001b[0m, in \u001b[0;36mBaseModel.__init__\u001b[1;34m(self, **data)\u001b[0m\n\u001b[0;32m    212\u001b[0m \u001b[38;5;66;03m# `__tracebackhide__` tells pytest and some other tools to omit this function from tracebacks\u001b[39;00m\n\u001b[0;32m    213\u001b[0m __tracebackhide__ \u001b[38;5;241m=\u001b[39m \u001b[38;5;28;01mTrue\u001b[39;00m\n\u001b[1;32m--> 214\u001b[0m validated_self \u001b[38;5;241m=\u001b[39m \u001b[38;5;28;43mself\u001b[39;49m\u001b[38;5;241;43m.\u001b[39;49m\u001b[43m__pydantic_validator__\u001b[49m\u001b[38;5;241;43m.\u001b[39;49m\u001b[43mvalidate_python\u001b[49m\u001b[43m(\u001b[49m\u001b[43mdata\u001b[49m\u001b[43m,\u001b[49m\u001b[43m \u001b[49m\u001b[43mself_instance\u001b[49m\u001b[38;5;241;43m=\u001b[39;49m\u001b[38;5;28;43mself\u001b[39;49m\u001b[43m)\u001b[49m\n\u001b[0;32m    215\u001b[0m \u001b[38;5;28;01mif\u001b[39;00m \u001b[38;5;28mself\u001b[39m \u001b[38;5;129;01mis\u001b[39;00m \u001b[38;5;129;01mnot\u001b[39;00m validated_self:\n\u001b[0;32m    216\u001b[0m     warnings\u001b[38;5;241m.\u001b[39mwarn(\n\u001b[0;32m    217\u001b[0m         \u001b[38;5;124m'\u001b[39m\u001b[38;5;124mA custom validator is returning a value other than `self`.\u001b[39m\u001b[38;5;130;01m\\n\u001b[39;00m\u001b[38;5;124m'\u001b[39m\n\u001b[0;32m    218\u001b[0m         \u001b[38;5;124m\"\u001b[39m\u001b[38;5;124mReturning anything other than `self` from a top level model validator isn\u001b[39m\u001b[38;5;124m'\u001b[39m\u001b[38;5;124mt supported when validating via `__init__`.\u001b[39m\u001b[38;5;130;01m\\n\u001b[39;00m\u001b[38;5;124m\"\u001b[39m\n\u001b[0;32m    219\u001b[0m         \u001b[38;5;124m'\u001b[39m\u001b[38;5;124mSee the `model_validator` docs (https://docs.pydantic.dev/latest/concepts/validators/#model-validators) for more details.\u001b[39m\u001b[38;5;124m'\u001b[39m,\n\u001b[0;32m    220\u001b[0m         stacklevel\u001b[38;5;241m=\u001b[39m\u001b[38;5;241m2\u001b[39m,\n\u001b[0;32m    221\u001b[0m     )\n",
      "\u001b[1;31mValidationError\u001b[0m: 8 validation errors for videoInfo\nstorage_path\n  Field required [type=missing, input_value={'plate_info': plateInfo(...2025, 1, 22, 15, 45, 5)}, input_type=dict]\n    For further information visit https://errors.pydantic.dev/2.10/v/missing\nrun_nr\n  Field required [type=missing, input_value={'plate_info': plateInfo(...2025, 1, 22, 15, 45, 5)}, input_type=dict]\n    For further information visit https://errors.pydantic.dev/2.10/v/missing\nduration\n  Field required [type=missing, input_value={'plate_info': plateInfo(...2025, 1, 22, 15, 45, 5)}, input_type=dict]\n    For further information visit https://errors.pydantic.dev/2.10/v/missing\nframe_nr\n  Field required [type=missing, input_value={'plate_info': plateInfo(...2025, 1, 22, 15, 45, 5)}, input_type=dict]\n    For further information visit https://errors.pydantic.dev/2.10/v/missing\nmode\n  Field required [type=missing, input_value={'plate_info': plateInfo(...2025, 1, 22, 15, 45, 5)}, input_type=dict]\n    For further information visit https://errors.pydantic.dev/2.10/v/missing\nmagnification\n  Field required [type=missing, input_value={'plate_info': plateInfo(...2025, 1, 22, 15, 45, 5)}, input_type=dict]\n    For further information visit https://errors.pydantic.dev/2.10/v/missing\ncamera_settings\n  Field required [type=missing, input_value={'plate_info': plateInfo(...2025, 1, 22, 15, 45, 5)}, input_type=dict]\n    For further information visit https://errors.pydantic.dev/2.10/v/missing\nposition\n  Field required [type=missing, input_value={'plate_info': plateInfo(...2025, 1, 22, 15, 45, 5)}, input_type=dict]\n    For further information visit https://errors.pydantic.dev/2.10/v/missing"
     ]
    }
   ],
   "source": [
    "data_adr = Path(r\"G:\\AMOLF_Data\\AMOLF-SHIMIZU Dropbox\\Simon van Staalduine\") # Personal PC path\n",
    "# data_adr = Path(r\"/Users/simonvanstaalduine/AMOLF-SHIMIZU Dropbox/Simon van Staalduine\") # Personal mac path\n",
    "\n",
    "plate_id = r\"20250122_Plate017\"\n",
    "video_id = r\"034\"\n",
    "frame_id1 = r\"Img/Img_00000.tif\"\n",
    "frame_id2 = r\"Img/Img_00001.tif\"\n",
    "# total_path = Path(r\"U:\\test_data\\015\\Img\")\n",
    "total_path = data_adr / video_id / \"Img\"\n",
    "info_path = total_path.parent / \"videoInfo.txt\"\n",
    "\n",
    "video_info_pd = read_video_info_txt(info_path)\n",
    "print(total_path)\n",
    "video_info_pd"
   ]
  },
  {
   "cell_type": "code",
   "execution_count": null,
   "metadata": {},
   "outputs": [],
   "source": [
    "\n",
    "def load_tif_series_to_dask(folder_path):\n",
    "    \"\"\"\n",
    "    Loads a series of .tif images from a folder into a Dask array.\n",
    "\n",
    "    Parameters:\n",
    "        folder_path (str): Path to the folder containing the .tif images.\n",
    "\n",
    "    Returns:\n",
    "        dask.array.Array: A Dask array representing the .tif series.\n",
    "    \"\"\"\n",
    "    # Get sorted list of .tif files\n",
    "    tif_files = sorted(\n",
    "        [\n",
    "            os.path.join(folder_path, f)\n",
    "            for f in os.listdir(folder_path)\n",
    "            if f.lower().endswith(\".tif\")\n",
    "        ],\n",
    "        # key=lambda x: int(os.path.basename(x)[3:].split('.')[0])  # Extract number from 'Img<nr>.tif'\n",
    "    )\n",
    "\n",
    "    if not tif_files:\n",
    "        raise ValueError(\"No .tif files found in the specified folder.\")\n",
    "\n",
    "    # Use Dask to stack images lazily\n",
    "    sample_image = tifffile.imread(tif_files[0])\n",
    "    dtype = sample_image.dtype\n",
    "    shape = (len(tif_files),) + sample_image.shape\n",
    "\n",
    "    def lazy_reader(filename):\n",
    "        return tifffile.imread(filename)\n",
    "\n",
    "    dask_array = da.stack(\n",
    "        [\n",
    "            da.from_delayed(\n",
    "                delayed(lazy_reader)(file), shape=sample_image.shape, dtype=dtype\n",
    "            )\n",
    "            for file in tif_files\n",
    "        ]\n",
    "    )\n",
    "\n",
    "    return dask_array\n",
    "\n",
    "\n",
    "array = load_tif_series_to_dask(total_path) # Dims are z, y, x"
   ]
  },
  {
   "cell_type": "code",
   "execution_count": null,
   "metadata": {},
   "outputs": [],
   "source": [
    "N = 128\n",
    "coord_system = freqSpaceCoords(np.array([N, N]))\n",
    "# print(coord_system.rho)\n",
    "\n",
    "ret_val = OSFilter.angular_kernel(K=4, coord_system=coord_system).real\n",
    "ret_val_rad = OSFilter.radial_kernel(0.3, coord_system=coord_system)\n",
    "nr_of_filters = 2\n",
    "# print(ret_val.shape)\n",
    "\n",
    "fig, ax = plt.subplots(nr_of_filters, 2, figsize=(5, 5))\n",
    "for i in range(nr_of_filters):\n",
    "    ax[i, 0].imshow(ret_val[:, :, i], cmap=\"cet_CET_L1\", vmin=0)\n",
    "    ax[i, 1].imshow(ret_val_rad[:, :], cmap=\"cet_CET_L1\", vmin=0)\n"
   ]
  },
  {
   "cell_type": "code",
   "execution_count": null,
   "metadata": {},
   "outputs": [],
   "source": [
    "\n",
    "from matplotlib import pyplot as plt\n",
    "\n",
    "line_height = 753\n",
    "# Cutting out an image with (z,x) axes\n",
    "img = array[:, line_height, 1000:].compute()\n",
    "\n",
    "fig, ax = plt.subplots(1, 2, figsize=(9, 4))\n",
    "ax[0].imshow(array[0, :, :], cmap=\"cet_CET_L20\")\n",
    "ax[0].axhline(line_height)\n",
    "\n",
    "ax[1].imshow(img, cmap=\"cet_CET_L20\")\n",
    "ax[1].set_aspect('equal')\n",
    "fig.tight_layout()\n"
   ]
  },
  {
   "cell_type": "code",
   "execution_count": null,
   "metadata": {},
   "outputs": [],
   "source": [
    "OSFilter = orientationSpaceManager(0.25, K=8)\n",
    "img_fft = OSFilter.get_response(img)"
   ]
  },
  {
   "cell_type": "code",
   "execution_count": null,
   "metadata": {},
   "outputs": [],
   "source": [
    "order = 5\n",
    "\n",
    "OSFilter.demo_image(img, order=order)\n"
   ]
  },
  {
   "cell_type": "code",
   "execution_count": null,
   "metadata": {},
   "outputs": [],
   "source": [
    "point = (384, 80)\n",
    "\n",
    "fig = OSFilter.response.plot_mean_response()\n",
    "thres = OSFilter.response.nlms_mask(fill_holes=True)\n",
    "OSFilter.response.plot_lineof_point(point)\n",
    "OSFilter.response.visualize_point_response(point)\n",
    "\n",
    "fig, ax = plt.subplots()\n",
    "ax.imshow(thres)"
   ]
  }
 ],
 "metadata": {
  "kernelspec": {
   "display_name": ".VENV",
   "language": "python",
   "name": "python3"
  },
  "language_info": {
   "codemirror_mode": {
    "name": "ipython",
    "version": 3
   },
   "file_extension": ".py",
   "mimetype": "text/x-python",
   "name": "python",
   "nbconvert_exporter": "python",
   "pygments_lexer": "ipython3",
   "version": "3.12.9"
  }
 },
 "nbformat": 4,
 "nbformat_minor": 2
}
