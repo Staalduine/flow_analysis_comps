{
 "cells": [
  {
   "cell_type": "code",
   "execution_count": null,
   "metadata": {},
   "outputs": [],
   "source": [
    "from pathlib import Path\n",
    "from util.coord_transforms import freqSpaceCoords\n",
    "\n",
    "import os\n",
    "import numpy as np\n",
    "import matplotlib.pyplot as plt\n",
    "from flow_analysis_comps.Fourier.OrientationSpaceManager import orientationSpaceManager\n",
    "import dask.array as da\n",
    "from dask import delayed\n",
    "import tifffile\n",
    "import flow_analysis_comps.Fourier.OrientationSpaceFilter as OSFilter\n",
    "import colorcet  # noqa: F401\n",
    "\n",
    "%matplotlib widget\n"
   ]
  },
  {
   "cell_type": "code",
   "execution_count": null,
   "metadata": {},
   "outputs": [],
   "source": [
    "data_adr = Path(r\"G:\\AMOLF_Data\\AMOLF-SHIMIZU Dropbox\\Simon van Staalduine\")\n",
    "plate_id = r\"20250122_Plate017\"\n",
    "video_id = r\"034\"\n",
    "frame_id1 = r\"Img/Img_00000.tif\"\n",
    "frame_id2 = r\"Img/Img_00001.tif\"\n",
    "# total_path = Path(r\"U:\\test_data\\015\\Img\")\n",
    "total_path = data_adr / video_id / \"Img\"\n",
    "\n",
    "\n",
    "print(total_path)"
   ]
  },
  {
   "cell_type": "code",
   "execution_count": null,
   "metadata": {},
   "outputs": [],
   "source": [
    "\n",
    "def load_tif_series_to_dask(folder_path):\n",
    "    \"\"\"\n",
    "    Loads a series of .tif images from a folder into a Dask array.\n",
    "\n",
    "    Parameters:\n",
    "        folder_path (str): Path to the folder containing the .tif images.\n",
    "\n",
    "    Returns:\n",
    "        dask.array.Array: A Dask array representing the .tif series.\n",
    "    \"\"\"\n",
    "    # Get sorted list of .tif files\n",
    "    tif_files = sorted(\n",
    "        [\n",
    "            os.path.join(folder_path, f)\n",
    "            for f in os.listdir(folder_path)\n",
    "            if f.lower().endswith(\".tif\")\n",
    "        ],\n",
    "        # key=lambda x: int(os.path.basename(x)[3:].split('.')[0])  # Extract number from 'Img<nr>.tif'\n",
    "    )\n",
    "\n",
    "    if not tif_files:\n",
    "        raise ValueError(\"No .tif files found in the specified folder.\")\n",
    "\n",
    "    # Use Dask to stack images lazily\n",
    "    sample_image = tifffile.imread(tif_files[0])\n",
    "    dtype = sample_image.dtype\n",
    "    shape = (len(tif_files),) + sample_image.shape\n",
    "\n",
    "    def lazy_reader(filename):\n",
    "        return tifffile.imread(filename)\n",
    "\n",
    "    dask_array = da.stack(\n",
    "        [\n",
    "            da.from_delayed(\n",
    "                delayed(lazy_reader)(file), shape=sample_image.shape, dtype=dtype\n",
    "            )\n",
    "            for file in tif_files\n",
    "        ]\n",
    "    )\n",
    "\n",
    "    return dask_array\n",
    "\n",
    "\n",
    "array = load_tif_series_to_dask(total_path) # Dims are z, y, x"
   ]
  },
  {
   "cell_type": "code",
   "execution_count": null,
   "metadata": {},
   "outputs": [],
   "source": [
    "N = 128\n",
    "coord_system = freqSpaceCoords(np.array([N, N]))\n",
    "# print(coord_system.rho)\n",
    "\n",
    "ret_val = OSFilter.angular_kernel(K=4, coord_system=coord_system).real\n",
    "ret_val_rad = OSFilter.radial_kernel(0.3, coord_system=coord_system)\n",
    "nr_of_filters = 2\n",
    "# print(ret_val.shape)\n",
    "\n",
    "fig, ax = plt.subplots(nr_of_filters, 2, figsize=(5, 5))\n",
    "for i in range(nr_of_filters):\n",
    "    ax[i, 0].imshow(ret_val[:, :, i], cmap=\"cet_CET_L1\", vmin=0)\n",
    "    ax[i, 1].imshow(ret_val_rad[:, :], cmap=\"cet_CET_L1\", vmin=0)\n"
   ]
  },
  {
   "cell_type": "code",
   "execution_count": null,
   "metadata": {},
   "outputs": [],
   "source": [
    "\n",
    "from matplotlib import pyplot as plt\n",
    "\n",
    "line_height = 753\n",
    "# Cutting out an image with (z,x) axes\n",
    "img = array[:, line_height, 1000:].compute()\n",
    "\n",
    "fig, ax = plt.subplots(1, 2, figsize=(9, 4))\n",
    "ax[0].imshow(array[0, :, :], cmap=\"cet_CET_L20\")\n",
    "ax[0].axhline(line_height)\n",
    "\n",
    "ax[1].imshow(img, cmap=\"cet_CET_L20\")\n",
    "ax[1].set_aspect('equal')\n",
    "fig.tight_layout()\n"
   ]
  },
  {
   "cell_type": "code",
   "execution_count": null,
   "metadata": {},
   "outputs": [],
   "source": [
    "OSFilter = orientationSpaceManager(0.25, K=8)\n",
    "img_fft = OSFilter.get_response(img)"
   ]
  },
  {
   "cell_type": "code",
   "execution_count": null,
   "metadata": {},
   "outputs": [],
   "source": [
    "order = 5\n",
    "\n",
    "OSFilter.demo_image(img, order=order)\n"
   ]
  },
  {
   "cell_type": "code",
   "execution_count": null,
   "metadata": {},
   "outputs": [],
   "source": [
    "point = (384, 80)\n",
    "\n",
    "fig = OSFilter.response.plot_mean_response()\n",
    "thres = OSFilter.response.nlms_mask(fill_holes=True)\n",
    "OSFilter.response.plot_lineof_point(point)\n",
    "OSFilter.response.visualize_point_response(point)\n",
    "\n",
    "fig, ax = plt.subplots()\n",
    "ax.imshow(thres)"
   ]
  }
 ],
 "metadata": {
  "kernelspec": {
   "display_name": ".VENV",
   "language": "python",
   "name": "python3"
  },
  "language_info": {
   "codemirror_mode": {
    "name": "ipython",
    "version": 3
   },
   "file_extension": ".py",
   "mimetype": "text/x-python",
   "name": "python",
   "nbconvert_exporter": "python",
   "pygments_lexer": "ipython3",
   "version": "3.12.9"
  }
 },
 "nbformat": 4,
 "nbformat_minor": 2
}
