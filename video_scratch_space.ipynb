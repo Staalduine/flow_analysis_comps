{
 "cells": [
  {
   "cell_type": "code",
   "execution_count": 1,
   "metadata": {},
   "outputs": [],
   "source": [
    "from pathlib import Path\n",
    "from glob import glob"
   ]
  },
  {
   "cell_type": "code",
   "execution_count": 3,
   "metadata": {},
   "outputs": [],
   "source": [
    "data_adr = Path(r\"/Users/simonvanstaalduine/AMOLF-SHIMIZU Dropbox/Simon van Staalduine\")\n",
    "plate_id = r\"20250122_Plate017/Img\"\n",
    "video_id = r\"032\"\n",
    "frame_id1 = r\"Img/Img_00000.tif\"\n",
    "frame_id2 = r\"Img/Img_00001.tif\"\n",
    "total_path = data_adr / video_id\n",
    "\n",
    "\n"
   ]
  },
  {
   "cell_type": "code",
   "execution_count": 4,
   "metadata": {},
   "outputs": [
    {
     "name": "stdout",
     "output_type": "stream",
     "text": [
      "/Users/simonvanstaalduine/AMOLF-SHIMIZU Dropbox/Simon van Staalduine/032\n"
     ]
    }
   ],
   "source": [
    "print(total_path)"
   ]
  }
 ],
 "metadata": {
  "kernelspec": {
   "display_name": "flow-analysis-comps-wxie9OvL-py3.13",
   "language": "python",
   "name": "python3"
  },
  "language_info": {
   "codemirror_mode": {
    "name": "ipython",
    "version": 3
   },
   "file_extension": ".py",
   "mimetype": "text/x-python",
   "name": "python",
   "nbconvert_exporter": "python",
   "pygments_lexer": "ipython3",
   "version": "3.13.1"
  }
 },
 "nbformat": 4,
 "nbformat_minor": 2
}
