{
 "cells": [
  {
   "cell_type": "code",
   "execution_count": null,
   "id": "7dd8a266",
   "metadata": {},
   "outputs": [],
   "source": [
    "from flow_analysis_comps.Autofocus.autofocus_methods import FocusAnalyzer\n",
    "from pathlib import Path"
   ]
  },
  {
   "cell_type": "code",
   "execution_count": null,
   "id": "615a7946",
   "metadata": {},
   "outputs": [],
   "source": [
    "focusser = FocusAnalyzer(Path(r\"\\\\sun\\shimizu\\engineering-projects\\Aretha\\Resources\\ZStacks\\Test_Plate\\Img_X-29.097_Y4.955_Z-7.4950_-7.4650.tif\"))"
   ]
  },
  {
   "cell_type": "code",
   "execution_count": null,
   "id": "aff906e4",
   "metadata": {},
   "outputs": [],
   "source": [
    "focusser.compute_laplacian_variance(use_masked=True)\n",
    "focusser.plot_focus_metric()\n",
    "focusser.show_best_focus_frame()"
   ]
  }
 ],
 "metadata": {
  "kernelspec": {
   "display_name": "flow-analysis-comps-Qa29NZEP-py3.12",
   "language": "python",
   "name": "python3"
  },
  "language_info": {
   "codemirror_mode": {
    "name": "ipython",
    "version": 3
   },
   "file_extension": ".py",
   "mimetype": "text/x-python",
   "name": "python",
   "nbconvert_exporter": "python",
   "pygments_lexer": "ipython3",
   "version": "3.12.9"
  }
 },
 "nbformat": 4,
 "nbformat_minor": 5
}
